{
 "cells": [
  {
   "cell_type": "code",
   "execution_count": 3,
   "metadata": {},
   "outputs": [],
   "source": [
    "# 7) Una red social almacena el contenido de los chats entre sus usuarios en un RDD que tiene\n",
    "# registros con el siguiente formato: (chat_id, user_id, nickname, text). Queremos saber cuál es el\n",
    "# usuario (user_id) que mas preguntas hace en sus chats, contabilizamos una pregunta por cada\n",
    "# caracter “?” que aparezca en el campo text. Programar en Spark un programa que identifique al\n",
    "# usuario preguntón.\n",
    "\n",
    "# (chat_id, user_id, nickname, text)\n",
    "\n",
    "datos = [\n",
    "        (100,\"100A\", \"lologimenex\", \"hola como estas?\"),\n",
    "        (101,\"100A\", \"lologimenex\", \"hola como estas? estas bien?\"),\n",
    "        (102,\"100A\", \"lologimenex\", \"hola como estas? llegaste?\"),\n",
    "        (103,\"100A\", \"lologimenex\", \"hola como estas? hola?\"),\n",
    "        (104,\"100A\", \"lologimenex\", \"hola como estas? que comemos hoy?\"),\n",
    "        (105,\"100A\", \"lologimenex\", \"hola como estas? tajai?\"),\n",
    "        (106,\"100A\", \"lologimenex\", \"hola como estas? tengo internet?\"),\n",
    "        (105,\"100A\", \"lologimenex\", \"hola como estas? tajai?\"),\n",
    "        (106,\"100A\", \"ailugarcia\", \"fuiba\"),\n",
    "        (106,\"100A\", \"ailugarcia\", \"gluten free\"),\n",
    "        (106,\"100A\", \"ailugarcia\", \"si\"),\n",
    "        (106,\"100A\", \"ailugarcia\", \"no\"),\n",
    "        (106,\"100A\", \"ailugarcia\", \"blanco\"),\n",
    "        (106,\"100A\", \"ailugarcia\", \"negro\")\n",
    "]\n",
    "\n",
    "mensajes = sc.parallelize(datos)"
   ]
  },
  {
   "cell_type": "code",
   "execution_count": 4,
   "metadata": {},
   "outputs": [
    {
     "data": {
      "text/plain": [
       "[(100, '100A', 'lologimenex', 'hola como estas?'),\n",
       " (101, '100A', 'lologimenex', 'hola como estas? estas bien?'),\n",
       " (102, '100A', 'lologimenex', 'hola como estas? llegaste?'),\n",
       " (103, '100A', 'lologimenex', 'hola como estas? hola?'),\n",
       " (104, '100A', 'lologimenex', 'hola como estas? que comemos hoy?'),\n",
       " (105, '100A', 'lologimenex', 'hola como estas? tajai?'),\n",
       " (106, '100A', 'lologimenex', 'hola como estas? tengo internet?'),\n",
       " (105, '100A', 'lologimenex', 'hola como estas? tajai?'),\n",
       " (106, '100A', 'ailugarcia', 'fuiba'),\n",
       " (106, '100A', 'ailugarcia', 'gluten free'),\n",
       " (106, '100A', 'ailugarcia', 'si'),\n",
       " (106, '100A', 'ailugarcia', 'no'),\n",
       " (106, '100A', 'ailugarcia', 'blanco'),\n",
       " (106, '100A', 'ailugarcia', 'negro')]"
      ]
     },
     "execution_count": 4,
     "metadata": {},
     "output_type": "execute_result"
    }
   ],
   "source": [
    "mensajes.collect()"
   ]
  },
  {
   "cell_type": "code",
   "execution_count": 22,
   "metadata": {},
   "outputs": [
    {
     "data": {
      "text/plain": [
       "[(100, ['hola', 'como', 'estas?']),\n",
       " (101, ['hola', 'como', 'estas?', 'estas', 'bien?']),\n",
       " (102, ['hola', 'como', 'estas?', 'llegaste?']),\n",
       " (103, ['hola', 'como', 'estas?', 'hola?']),\n",
       " (104, ['hola', 'como', 'estas?', 'que', 'comemos', 'hoy?']),\n",
       " (105, ['hola', 'como', 'estas?', 'tajai?']),\n",
       " (106, ['hola', 'como', 'estas?', 'tengo', 'internet?']),\n",
       " (105, ['hola', 'como', 'estas?', 'tajai?']),\n",
       " (106, ['fuiba']),\n",
       " (106, ['gluten', 'free']),\n",
       " (106, ['si']),\n",
       " (106, ['no']),\n",
       " (106, ['blanco']),\n",
       " (106, ['negro'])]"
      ]
     },
     "execution_count": 22,
     "metadata": {},
     "output_type": "execute_result"
    }
   ],
   "source": [
    "# (chat_id, user_id, nickname, text)\n",
    "\n",
    "mensajes2 = mensajes.map(lambda x: (x[0],x[3].split()))\n",
    "\n",
    "mensajes2.collect()"
   ]
  },
  {
   "cell_type": "code",
   "execution_count": null,
   "metadata": {},
   "outputs": [],
   "source": []
  }
 ],
 "metadata": {
  "kernelspec": {
   "display_name": "Python 3",
   "language": "python",
   "name": "python3"
  },
  "language_info": {
   "codemirror_mode": {
    "name": "ipython",
    "version": 3
   },
   "file_extension": ".py",
   "mimetype": "text/x-python",
   "name": "python",
   "nbconvert_exporter": "python",
   "pygments_lexer": "ipython3",
   "version": "3.7.3"
  }
 },
 "nbformat": 4,
 "nbformat_minor": 2
}

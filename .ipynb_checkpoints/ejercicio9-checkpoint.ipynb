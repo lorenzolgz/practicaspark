{
 "cells": [
  {
   "cell_type": "code",
   "execution_count": 5,
   "metadata": {},
   "outputs": [],
   "source": [
    "# 9) Se cuenta con un RDD con información sobre patentamientos de autos con la siguiente\n",
    "# información (patente, marca, modelo, versión, tipo_vehiculo, provincia, fecha), donde\n",
    "# tipo_vehiculo indica si la unidad patentada es auto, pickup, camión o moto. Se pide generar un\n",
    "# programa en pySpark que indique la marca y modelo del auto más patentado por tipo de\n",
    "# vehículo en la provincia de Buenos Aires en el mes de Abril de 2017.\n",
    "\n",
    "# Cambio a Agosto 2017\n",
    "\n",
    "# (patente, marca, modelo, versión, tipo_vehiculo, provincia, fecha)\n",
    "\n",
    "# Asumo fecha es YYYY MM DD\n",
    "\n",
    "datos = [\n",
    "        (\"AA000AA\",\"RENAULT\", \"Clio\", \"AUTO\", \"BSAS\", \"20170812\"),\n",
    "        (\"AA000AB\",\"RENAULT\", \"Clio\", \"AUTO\", \"BSAS\", \"20170812\"),\n",
    "        (\"AA000AC\",\"RENAULT\", \"Clio\", \"AUTO\", \"BSAS\", \"20170812\"),\n",
    "        (\"AA000AD\",\"RENAULT\", \"Clio\", \"AUTO\", \"BSAS\", \"20170812\"),\n",
    "        (\"AA000AE\",\"RENAULT\", \"Clio\", \"AUTO\", \"BSAS\", \"20170812\"),\n",
    "        (\"AA000AF\",\"RENAULT\", \"Clio\", \"AUTO\", \"MENDOZA\", \"20170812\"),\n",
    "        (\"AA000AG\",\"RENAULT\", \"Clio\", \"AUTO\", \"MENDOZA\", \"20170812\"),\n",
    "        (\"AA000AH\",\"RENAULT\", \"Clio\", \"AUTO\", \"MENDOZA\", \"20170812\"),\n",
    "        (\"AA000AI\",\"RENAULT\", \"Clio\", \"AUTO\", \"MENDOZA\", \"20170812\"),\n",
    "        (\"AA000AJ\",\"RENAULT\", \"Clio\", \"AUTO\", \"MENDOZA\", \"20170812\"),\n",
    "        (\"AA000AK\",\"RENAULT\", \"Clio\", \"AUTO\", \"MENDOZA\", \"20170812\"),\n",
    "        (\"AA000AL\",\"RENAULT\", \"Clio\", \"AUTO\", \"MENDOZA\", \"20170812\"),\n",
    "        (\"AA000AM\",\"RENAULT\", \"Clio\", \"AUTO\", \"MENDOZA\", \"20170812\"),\n",
    "        (\"AA000AN\",\"RENAULT\", \"Clio\", \"AUTO\", \"MENDOZA\", \"20170812\"),\n",
    "        (\"AA000AK\",\"RENAULT\", \"Clio\", \"AUTO\", \"MENDOZA\", \"20170812\"),\n",
    "        (\"AA000AP\",\"RENAULT\", \"Clio\", \"AUTO\", \"MENDOZA\", \"20170812\"),\n",
    "        (\"AA000AQ\",\"RENAULT\", \"Clio\", \"AUTO\", \"MENDOZA\", \"20170812\"),\n",
    "        (\"AA000AR\",\"RENAULT\", \"Clio\", \"AUTO\", \"MENDOZA\", \"20170812\"),\n",
    "        (\"AA000AS\",\"RENAULT\", \"Clio\", \"AUTO\", \"MENDOZA\", \"20170812\"),\n",
    "        (\"AA000AD\",\"PEUGEOT\", \"307\", \"AUTO\", \"BSAS\", \"20170812\"),\n",
    "        (\"AA000AD\",\"PEUGEOT\", \"307\", \"AUTO\", \"BSAS\", \"20170812\"),\n",
    "        (\"AA000AD\",\"PEUGEOT\", \"307\", \"AUTO\", \"BSAS\", \"20170812\"),\n",
    "        (\"AA000AD\",\"PEUGEOT\", \"307\", \"AUTO\", \"BSAS\", \"20170812\"),\n",
    "        (\"AA000AD\",\"PEUGEOT\", \"307\", \"AUTO\", \"BSAS\", \"20170812\"),\n",
    "        (\"AA000AD\",\"PEUGEOT\", \"307\", \"AUTO\", \"BSAS\", \"20170812\"),\n",
    "        (\"AA000AD\",\"PEUGEOT\", \"307\", \"AUTO\", \"BSAS\", \"20170812\"),\n",
    "        (\"AA000AD\",\"PEUGEOT\", \"307\", \"AUTO\", \"BSAS\", \"20170812\"),\n",
    "        (\"AA000AD\",\"PEUGEOT\", \"307\", \"AUTO\", \"BSAS\", \"20170812\"),\n",
    "        (\"AA000AD\",\"PEUGEOT\", \"307\", \"AUTO\", \"BSAS\", \"20170812\"),\n",
    "        (\"AA000AD\",\"PEUGEOT\", \"307\", \"AUTO\", \"BSAS\", \"20170812\"),\n",
    "        (\"AA000AD\",\"PEUGEOT\", \"307\", \"AUTO\", \"BSAS\", \"20170812\"),\n",
    "        (\"AA000AD\",\"PEUGEOT\", \"307\", \"AUTO\", \"BSAS\", \"20170812\"),\n",
    "        (\"AA000AD\",\"PEUGEOT\", \"307\", \"AUTO\", \"BSAS\", \"20170812\"),\n",
    "        (\"AA000AD\",\"PEUGEOT\", \"307\", \"AUTO\", \"BSAS\", \"20170812\"),\n",
    "        (\"AA000AD\",\"PEUGEOT\", \"307\", \"AUTO\", \"BSAS\", \"20170812\"),\n",
    "        (\"AA000AD\",\"PEUGEOT\", \"307\", \"AUTO\", \"BSAS\", \"20170812\"),\n",
    "        (\"AA000AD\",\"PEUGEOT\", \"307\", \"AUTO\", \"BSAS\", \"20170812\"),\n",
    "        (\"AA000AD\",\"PEUGEOT\", \"307\", \"AUTO\", \"BSAS\", \"20170812\"),\n",
    "        (\"AA000AD\",\"PEUGEOT\", \"307\", \"AUTO\", \"BSAS\", \"20170812\"),\n",
    "        (\"AA000AD\",\"PEUGEOT\", \"307\", \"AUTO\", \"BSAS\", \"20170812\"),\n",
    "]\n",
    "\n",
    "vehiculos = sc.parallelize(datos)"
   ]
  },
  {
   "cell_type": "code",
   "execution_count": 6,
   "metadata": {},
   "outputs": [
    {
     "data": {
      "text/plain": [
       "[('AA000AA', 'RENAULT', 'Clio', 'AUTO', 'BSAS', '20170812'),\n",
       " ('AA000AB', 'RENAULT', 'Clio', 'AUTO', 'BSAS', '20170812'),\n",
       " ('AA000AC', 'RENAULT', 'Clio', 'AUTO', 'BSAS', '20170812'),\n",
       " ('AA000AD', 'RENAULT', 'Clio', 'AUTO', 'BSAS', '20170812'),\n",
       " ('AA000AE', 'RENAULT', 'Clio', 'AUTO', 'BSAS', '20170812'),\n",
       " ('AA000AF', 'RENAULT', 'Clio', 'AUTO', 'MENDOZA', '20170812'),\n",
       " ('AA000AG', 'RENAULT', 'Clio', 'AUTO', 'MENDOZA', '20170812'),\n",
       " ('AA000AH', 'RENAULT', 'Clio', 'AUTO', 'MENDOZA', '20170812'),\n",
       " ('AA000AI', 'RENAULT', 'Clio', 'AUTO', 'MENDOZA', '20170812'),\n",
       " ('AA000AJ', 'RENAULT', 'Clio', 'AUTO', 'MENDOZA', '20170812')]"
      ]
     },
     "execution_count": 6,
     "metadata": {},
     "output_type": "execute_result"
    }
   ],
   "source": [
    "vehiculos.take(10)"
   ]
  },
  {
   "cell_type": "code",
   "execution_count": 12,
   "metadata": {},
   "outputs": [
    {
     "data": {
      "text/plain": [
       "[('AA000AA', 'RENAULT', 'Clio', 'AUTO', 'BSAS', '20170812'),\n",
       " ('AA000AB', 'RENAULT', 'Clio', 'AUTO', 'BSAS', '20170812'),\n",
       " ('AA000AC', 'RENAULT', 'Clio', 'AUTO', 'BSAS', '20170812'),\n",
       " ('AA000AD', 'RENAULT', 'Clio', 'AUTO', 'BSAS', '20170812'),\n",
       " ('AA000AE', 'RENAULT', 'Clio', 'AUTO', 'BSAS', '20170812'),\n",
       " ('AA000AD', 'PEUGEOT', '307', 'AUTO', 'BSAS', '20170812'),\n",
       " ('AA000AD', 'PEUGEOT', '307', 'AUTO', 'BSAS', '20170812'),\n",
       " ('AA000AD', 'PEUGEOT', '307', 'AUTO', 'BSAS', '20170812'),\n",
       " ('AA000AD', 'PEUGEOT', '307', 'AUTO', 'BSAS', '20170812'),\n",
       " ('AA000AD', 'PEUGEOT', '307', 'AUTO', 'BSAS', '20170812')]"
      ]
     },
     "execution_count": 12,
     "metadata": {},
     "output_type": "execute_result"
    }
   ],
   "source": [
    "# (patente, marca, modelo, versión, tipo_vehiculo, provincia, fecha)\n",
    "\n",
    "# Primer filtro la fecha que me interesa y que sean AUTOS de Buenos Aires\n",
    "\n",
    "autosbsas817 = vehiculos.filter(lambda x: (x[5] > \"201708\") & (x[5] < \"201709\") \\\n",
    "                                        & (x[4] == \"BSAS\")  & (x[3] == \"AUTO\"))\n",
    "autosbsas817.take(10)"
   ]
  },
  {
   "cell_type": "code",
   "execution_count": 13,
   "metadata": {},
   "outputs": [
    {
     "data": {
      "text/plain": [
       "[(('RENAULT', 'Clio'), 1),\n",
       " (('RENAULT', 'Clio'), 1),\n",
       " (('RENAULT', 'Clio'), 1),\n",
       " (('RENAULT', 'Clio'), 1),\n",
       " (('RENAULT', 'Clio'), 1),\n",
       " (('PEUGEOT', '307'), 1),\n",
       " (('PEUGEOT', '307'), 1),\n",
       " (('PEUGEOT', '307'), 1),\n",
       " (('PEUGEOT', '307'), 1),\n",
       " (('PEUGEOT', '307'), 1)]"
      ]
     },
     "execution_count": 13,
     "metadata": {},
     "output_type": "execute_result"
    }
   ],
   "source": [
    "# Ahora mapeo para llevar a clave MARCA MODELO \n",
    "\n",
    "# ((MARCA, MODELO), 1)\n",
    "autospormarca = autosbsas817.map(lambda x: ((x[1],x[2]),1))\n",
    "autospormarca.take(10)"
   ]
  },
  {
   "cell_type": "code",
   "execution_count": 15,
   "metadata": {},
   "outputs": [
    {
     "data": {
      "text/plain": [
       "[(('PEUGEOT', '307'), 21)]"
      ]
     },
     "execution_count": 15,
     "metadata": {},
     "output_type": "execute_result"
    }
   ],
   "source": [
    "# Reduzco por la clave\n",
    "autoscontados = autospormarca.reduceByKey(lambda x,y: x+y)\n",
    "\n",
    "# ((MARCA, MODELO), CANTIDAD)\n",
    "\n",
    "# Me quedo con el que tenga mas cantidad\n",
    "autoscontados.takeOrdered(1, key = lambda x: -x[1])"
   ]
  }
 ],
 "metadata": {
  "kernelspec": {
   "display_name": "Python 3",
   "language": "python",
   "name": "python3"
  },
  "language_info": {
   "codemirror_mode": {
    "name": "ipython",
    "version": 3
   },
   "file_extension": ".py",
   "mimetype": "text/x-python",
   "name": "python",
   "nbconvert_exporter": "python",
   "pygments_lexer": "ipython3",
   "version": "3.7.3"
  }
 },
 "nbformat": 4,
 "nbformat_minor": 2
}

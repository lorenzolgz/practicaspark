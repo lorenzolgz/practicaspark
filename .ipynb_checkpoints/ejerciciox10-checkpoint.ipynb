{
 "cells": [
  {
   "cell_type": "code",
   "execution_count": 11,
   "metadata": {},
   "outputs": [
    {
     "data": {
      "text/plain": [
       "[(1, 'Mario Kart', 4.1, 3.9), (2, 'Super Mario', 3.2, 4.0)]"
      ]
     },
     "execution_count": 11,
     "metadata": {},
     "output_type": "execute_result"
    }
   ],
   "source": [
    "# 10) A partir de la plataforma online (e-shop) de los países en los que opera, Nintendo tiene\n",
    "# información de ventas de videojuegos diarias digitales por país en el siguiente RDD:\n",
    "# (id_videojuego, codigo_pais, fecha, visitas_diarias, total_ventas_diarias). Por otro lado se\n",
    "# tienen otro RDD que tiene información de todos los videojuegos que se venden en su\n",
    "# plataforma con el siguiente formato (id_videojuego, titulo, rating_pegi, rating_esbr). Tener en\n",
    "# cuenta que un mismo videojuego se puede vender en distintos países y esos nos permitirá\n",
    "# obtener métricas a nivel global. Con esta información escribir un programa en pySpark.\n",
    "\n",
    "# RDD ventas\n",
    "# (id_videojuego, codigo_pais, fecha, visitas_diarias, total_ventas_diarias)\n",
    "\n",
    "# RDD juegos\n",
    "# (id_videojuego, titulo, rating_pegi, rating_esbr).\n",
    "\n",
    "datos = [\n",
    "        (1,\"ARG\", \"20170812\", 1000, 20),\n",
    "        (1,\"ARG\", \"20170813\", 900, 21),\n",
    "        (1,\"ARG\", \"20170814\", 1100, 25),\n",
    "        (1,\"ARG\", \"20170815\", 950, 30),\n",
    "        (1,\"ARG\", \"20170816\", 800, 15),\n",
    "        (1,\"ARG\", \"20170817\", 910, 19),\n",
    "        (1,\"URU\", \"20170812\", 600, 15),\n",
    "        (1,\"URU\", \"20170813\", 700, 16),\n",
    "        (1,\"URU\", \"20170814\", 600, 13),\n",
    "        (1,\"URU\", \"20170815\", 400, 10),\n",
    "        (1,\"URU\", \"20170816\", 900, 21),\n",
    "        (1,\"URU\", \"20170817\", 700, 15),\n",
    "        (2,\"ARG\", \"20170812\", 100, 2),\n",
    "        (2,\"ARG\", \"20170813\", 90, 2),\n",
    "        (2,\"ARG\", \"20170814\", 110, 2),\n",
    "        (2,\"ARG\", \"20170815\", 95, 3),\n",
    "        (2,\"ARG\", \"20170816\", 80, 1),\n",
    "        (2,\"ARG\", \"20170817\", 91, 2),\n",
    "        (2,\"URU\", \"20170812\", 60, 2),\n",
    "        (2,\"URU\", \"20170813\", 70, 2),\n",
    "        (2,\"URU\", \"20170814\", 60, 1),\n",
    "        (2,\"URU\", \"20170815\", 40, 1),\n",
    "        (2,\"URU\", \"20170816\", 90, 2),\n",
    "        (2,\"URU\", \"20170817\", 70, 2)\n",
    "]\n",
    "\n",
    "datos2 = [\n",
    "          (1,\"Mario Kart\", 4.1, 3.9),\n",
    "          (2,\"Super Mario\", 3.2, 4.0)\n",
    "]\n",
    "\n",
    "ventas = sc.parallelize(datos)\n",
    "juegos = sc.parallelize(datos2)\n",
    "\n",
    "ventas.take(5)\n",
    "juegos.take(5)"
   ]
  },
  {
   "cell_type": "code",
   "execution_count": 14,
   "metadata": {},
   "outputs": [
    {
     "data": {
      "text/plain": [
       "[(1, ('Mario Kart', 220))]"
      ]
     },
     "execution_count": 14,
     "metadata": {},
     "output_type": "execute_result"
    }
   ],
   "source": [
    "# a) Obtener el videojuego con más ventas digitales globales (es decir en todos los\n",
    "# países) en un RDD con el siguiente formato: (id_videojuego, titulo, total), siendo total la\n",
    "# cantidad total de ventas digitales globales\n",
    "\n",
    "# RDD ventas\n",
    "# (id_videojuego, codigo_pais, fecha, visitas_diarias, total_ventas_diarias)\n",
    "\n",
    "# RDD juegos\n",
    "# (id_videojuego, titulo, rating_pegi, rating_esbr).\n",
    "\n",
    "#Llevo a (ID, VENTAS)\n",
    "ventasporid = ventas.map(lambda x: (x[0],x[4]))\n",
    "\n",
    "#Llevo a (ID, TOTALVENTAS)\n",
    "ventasporid = ventasporid.reduceByKey(lambda x,y: x+y)\n",
    "\n",
    "#Llevo a (ID, TITULO)\n",
    "nombresporid = juegos.map(lambda x: (x[0], x[1]))\n",
    "\n",
    "#Joineo para llevar a (ID, (TITULO, TOTALVENTAS))\n",
    "ranking = nombresporid.join(ventasporid)\n",
    "\n",
    "# Me quedo con el que tenga mas ventas\n",
    "ranking.takeOrdered(1, key = lambda x: -x[1][1])"
   ]
  },
  {
   "cell_type": "code",
   "execution_count": 26,
   "metadata": {},
   "outputs": [
    {
     "data": {
      "text/plain": [
       "[('URU', (4290, 100))]"
      ]
     },
     "execution_count": 26,
     "metadata": {},
     "output_type": "execute_result"
    }
   ],
   "source": [
    "# b) Cual es el país para el cual ser registra una mayor tasa de conversión \n",
    "# (es decir, (total_ventas_diarias / visitas_diarias) )\n",
    "\n",
    "# RDD ventas\n",
    "# (id_videojuego, codigo_pais, fecha, visitas_diarias, total_ventas_diarias)\n",
    "\n",
    "# Me interesa que el pais sea la clave\n",
    "# Llevo a (PAIS, VISITAS, VENTAS)\n",
    "ventasporpais = ventas.map(lambda x: (x[1], (x[3],x[4])))\n",
    "ventasporpais.collect()\n",
    "\n",
    "# Llevo a (PAIS, TOTALVISITAS, TOTALVENTAS)\n",
    "ventascontadas = ventasporpais.reduceByKey(lambda x,y: (x[0]+y[0],x[1]+y[1]))\n",
    "ventascontadas.collect()\n",
    "\n",
    "# Me quedo con el que tenga mayor relacion VENTAS / VISITAS\n",
    "#                                               ventas   /  visitas\n",
    "ventascontadas.takeOrdered(1, key = lambda x: - x[1][1] / x[1][0])\n",
    "\n"
   ]
  }
 ],
 "metadata": {
  "kernelspec": {
   "display_name": "Python 3",
   "language": "python",
   "name": "python3"
  },
  "language_info": {
   "codemirror_mode": {
    "name": "ipython",
    "version": 3
   },
   "file_extension": ".py",
   "mimetype": "text/x-python",
   "name": "python",
   "nbconvert_exporter": "python",
   "pygments_lexer": "ipython3",
   "version": "3.7.3"
  }
 },
 "nbformat": 4,
 "nbformat_minor": 2
}

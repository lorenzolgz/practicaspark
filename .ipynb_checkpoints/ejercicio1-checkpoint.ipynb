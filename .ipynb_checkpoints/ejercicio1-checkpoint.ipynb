{
 "cells": [
  {
   "cell_type": "code",
   "execution_count": 191,
   "metadata": {},
   "outputs": [],
   "source": [
    "notas = [\n",
    "        (100, \"ALGEBRA\", 9,\"2019-01-13\"),\n",
    "        (100, \"ANALISIS\", 8,\"2019-01-19\"),\n",
    "        (100, \"ALGORITMOS\", 9,\"2018-01-28\"),\n",
    "        (110, \"ALGORITMOS\", 9,\"2018-01-24\"),\n",
    "        (110, \"ALGEBRA\", 8,\"2016-01-25\"),\n",
    "        (130, \"ANALISIS\", 2,\"2019-01-26\"),\n",
    "        (120, \"ALGORITMOS\", 6,\"2018-01-27\"),\n",
    "        (120, \"ALGEBRA\", 10,\"2019-01-30\"),\n",
    "        (120, \"ANALISIS\", 9,\"2018-01-31\"),\n",
    "        (100, \"FISICA\", 9,\"2019-01-28\"),\n",
    "        (130, \"ANALISIS\", 3,\"2018-01-28\"),\n",
    "        (140, \"ANALISIS\", 9,\"2016-01-28\")\n",
    "]\n",
    "\n",
    "\n",
    "rddnotas = sc.parallelize(notas)"
   ]
  },
  {
   "cell_type": "code",
   "execution_count": 192,
   "metadata": {},
   "outputs": [],
   "source": [
    "#######################################################################\n",
    "#   Cuántos alumnos aprobaron al menos 1 materia en los últimos 2 años\n",
    "#######################################################################"
   ]
  },
  {
   "cell_type": "code",
   "execution_count": 193,
   "metadata": {},
   "outputs": [],
   "source": [
    "alumnos_regulares = rddnotas.filter(lambda x: (x[2] >= 4) & (x[3] > \"2017\"))"
   ]
  },
  {
   "cell_type": "code",
   "execution_count": 194,
   "metadata": {},
   "outputs": [],
   "source": [
    "alumnos_regulares = alumnos_regulares.map(lambda x: (x[0], \"Aprobado\"))"
   ]
  },
  {
   "cell_type": "code",
   "execution_count": 195,
   "metadata": {},
   "outputs": [],
   "source": [
    "alumnos_regulares = alumnos_regulares.reduceByKey(lambda x,y: x)"
   ]
  },
  {
   "cell_type": "code",
   "execution_count": 196,
   "metadata": {},
   "outputs": [
    {
     "data": {
      "text/plain": [
       "[(100, 'Aprobado'), (120, 'Aprobado'), (110, 'Aprobado')]"
      ]
     },
     "execution_count": 196,
     "metadata": {},
     "output_type": "execute_result"
    }
   ],
   "source": [
    "alumnos_regulares.collect()"
   ]
  },
  {
   "cell_type": "code",
   "execution_count": 197,
   "metadata": {},
   "outputs": [],
   "source": [
    "#######################################################################\n",
    "#   Un RDD conteniendo el promedio de notas de cada alumno de la forma \n",
    "#   (padrón, promedio)\n",
    "#######################################################################"
   ]
  },
  {
   "cell_type": "code",
   "execution_count": 198,
   "metadata": {},
   "outputs": [],
   "source": [
    "#  Me quedo con el padron y la nota, agrego un 1 para contar\n",
    "\n",
    "notas_por_padron = rddnotas.map(lambda x: (x[0], (x[2],1)))"
   ]
  },
  {
   "cell_type": "code",
   "execution_count": 199,
   "metadata": {},
   "outputs": [],
   "source": [
    "# Sumo las notas y los 1\n",
    "\n",
    "notas_por_padron = notas_por_padron.reduceByKey(lambda x,y: (x[0] + y[0], x[1] + y[1]))"
   ]
  },
  {
   "cell_type": "code",
   "execution_count": 200,
   "metadata": {},
   "outputs": [],
   "source": [
    "# Calculo promedio como division entre acumulado de notas y los 1\n",
    "\n",
    "notas_por_padron = notas_por_padron.map(lambda x: (x[0], x[1][0] / x[1][1]))"
   ]
  },
  {
   "cell_type": "code",
   "execution_count": 201,
   "metadata": {},
   "outputs": [
    {
     "data": {
      "text/plain": [
       "[(140, 9.0), (100, 8.75), (110, 8.5), (120, 8.333333333333334), (130, 2.5)]"
      ]
     },
     "execution_count": 201,
     "metadata": {},
     "output_type": "execute_result"
    }
   ],
   "source": [
    "# Tomo los primeros 5 ordenados descendentemente por nota promedio\n",
    "\n",
    "notas_por_padron.takeOrdered(5, key = lambda x: - x[1])"
   ]
  },
  {
   "cell_type": "code",
   "execution_count": 202,
   "metadata": {},
   "outputs": [],
   "source": [
    "#######################################################################\n",
    "# El nombre y apellido del alumno con mejor promedio. Para esto puede utilizarse un\n",
    "# segundo RDD alumnos con registros (padron, nombre y apellido).\n",
    "#######################################################################"
   ]
  },
  {
   "cell_type": "code",
   "execution_count": 203,
   "metadata": {},
   "outputs": [],
   "source": [
    "nombres = [\n",
    "        (100, \"Lorenzo Gimenez\"),\n",
    "        (110, \"Gorenzo Limenez\"),\n",
    "        (120, \"Rogenzo Limezen\"),\n",
    "        (130, \"Zolerno Ginezem\"),\n",
    "        (140, \"Leronzo Geminez\"),\n",
    "]\n",
    "\n",
    "\n",
    "rddnombres = sc.parallelize(nombres)"
   ]
  },
  {
   "cell_type": "code",
   "execution_count": 204,
   "metadata": {},
   "outputs": [
    {
     "data": {
      "text/plain": [
       "[(100, (9, 1)),\n",
       " (100, (8, 1)),\n",
       " (100, (9, 1)),\n",
       " (110, (9, 1)),\n",
       " (110, (8, 1)),\n",
       " (130, (2, 1)),\n",
       " (120, (6, 1)),\n",
       " (120, (10, 1)),\n",
       " (120, (9, 1)),\n",
       " (100, (9, 1)),\n",
       " (130, (3, 1)),\n",
       " (140, (9, 1))]"
      ]
     },
     "execution_count": 204,
     "metadata": {},
     "output_type": "execute_result"
    }
   ],
   "source": [
    "#  Me quedo con el padron y la nota, agrego un 1 para contar\n",
    "\n",
    "notas_por_padron = rddnotas.map(lambda x: (x[0], (x[2],1)))\n",
    "notas_por_padron.collect()"
   ]
  },
  {
   "cell_type": "code",
   "execution_count": 205,
   "metadata": {},
   "outputs": [
    {
     "data": {
      "text/plain": [
       "[(100, (35, 4)), (120, (25, 3)), (140, (9, 1)), (110, (17, 2)), (130, (5, 2))]"
      ]
     },
     "execution_count": 205,
     "metadata": {},
     "output_type": "execute_result"
    }
   ],
   "source": [
    "# Sumo las notas y los 1\n",
    "\n",
    "notas_por_padron = notas_por_padron.reduceByKey(lambda x,y: (x[0] + y[0], x[1] + y[1]))\n",
    "notas_por_padron.collect()"
   ]
  },
  {
   "cell_type": "code",
   "execution_count": 206,
   "metadata": {},
   "outputs": [],
   "source": [
    "# Agrego los nombres\n",
    "notas_por_nombre = notas_por_padron.join(rddnombres)"
   ]
  },
  {
   "cell_type": "code",
   "execution_count": 207,
   "metadata": {},
   "outputs": [
    {
     "data": {
      "text/plain": [
       "[('Rogenzo Limezen', 8.333333333333334),\n",
       " ('Zolerno Ginezem', 2.5),\n",
       " ('Lorenzo Gimenez', 8.75),\n",
       " ('Leronzo Geminez', 9.0),\n",
       " ('Gorenzo Limenez', 8.5)]"
      ]
     },
     "execution_count": 207,
     "metadata": {},
     "output_type": "execute_result"
    }
   ],
   "source": [
    "#notas_por_nombre = notas_por_nombre.map(lambda x:)\n",
    "promedios_por_nombre = notas_por_nombre.map(lambda x: (x[1][1],x[1][0][0]/x[1][0][1]))\n",
    "promedios_por_nombre.collect()"
   ]
  },
  {
   "cell_type": "code",
   "execution_count": 208,
   "metadata": {},
   "outputs": [
    {
     "data": {
      "text/plain": [
       "[('Leronzo Geminez', 9.0)]"
      ]
     },
     "execution_count": 208,
     "metadata": {},
     "output_type": "execute_result"
    }
   ],
   "source": [
    "# Tomo el primer padron ordenado por promedio\n",
    "\n",
    "promedios_por_nombre.takeOrdered(1, key = lambda x: - x[1])"
   ]
  }
 ],
 "metadata": {
  "kernelspec": {
   "display_name": "Python 3",
   "language": "python",
   "name": "python3"
  },
  "language_info": {
   "codemirror_mode": {
    "name": "ipython",
    "version": 3
   },
   "file_extension": ".py",
   "mimetype": "text/x-python",
   "name": "python",
   "nbconvert_exporter": "python",
   "pygments_lexer": "ipython3",
   "version": "3.7.3"
  }
 },
 "nbformat": 4,
 "nbformat_minor": 2
}

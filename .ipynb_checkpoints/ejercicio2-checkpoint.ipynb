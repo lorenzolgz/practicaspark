{
 "cells": [
  {
   "cell_type": "code",
   "execution_count": 2,
   "metadata": {},
   "outputs": [],
   "source": [
    "# Se tiene un RDD registros de ventas de producto con la forma (fecha de venta, código de\n",
    "# producto, precio de venta) y en otro RDD detalle de los productos con (código de producto,\n",
    "# descripción del producto, categoría). \n",
    "\n",
    "ventas = [\n",
    "        (\"2019-01-13\", 1, 400),\n",
    "        (\"2019-01-19\", 1, 350),\n",
    "        (\"2018-01-28\", 2, 400),\n",
    "        (\"2019-01-24\", 2, 150),\n",
    "        (\"2019-01-25\", 1, 160),\n",
    "        (\"2019-01-24\", 6, 100),\n",
    "        (\"2016-01-24\", 6, 110),\n",
    "        (\"2019-01-26\", 3, 200),\n",
    "        (\"2018-01-27\", 1, 180),\n",
    "        (\"2019-01-30\", 2, 230),\n",
    "        (\"2018-01-31\", 1, 250),\n",
    "        (\"2019-01-28\", 1, 100),\n",
    "        (\"2018-01-28\", 2, 300),\n",
    "        (\"2019-01-29\", 1, 200),\n",
    "        (\"2016-01-14\", 6, 120),\n",
    "        (\"2019-01-24\", 6, 130),\n",
    "        (\"2019-01-23\", 6, 90),\n",
    "        (\"2019-01-28\", 4, 230),\n",
    "        (\"2016-01-20\", 4, 220),\n",
    "        (\"2019-01-23\", 4, 240),\n",
    "        (\"2016-01-22\", 5, 260),\n",
    "        (\"2019-01-21\", 5, 120),\n",
    "        (\"2019-01-24\", 3, 120),\n",
    "        (\"2019-01-24\", 6, 100),\n",
    "        (\"2019-01-24\", 6, 90),\n",
    "        (\"2019-01-24\", 6, 120),\n",
    "        (\"2016-01-24\", 6, 110)\n",
    "]\n",
    "\n",
    "productos = [\n",
    "        (1, \"Abrochadora\", \"Libreria\"),\n",
    "        (2, \"Lapiz\", \"Libreria\"),\n",
    "        (3, \"Calculadora\", \"Electronicos\"),\n",
    "        (4, \"Alcohol en Gel\", \"Farmacia\"),\n",
    "        (5, \"Algodon\", \"Farmacia\"),\n",
    "        (6, \"Peine\", \"Farmacia\")\n",
    "]\n",
    "\n",
    "rddventas = sc.parallelize(ventas)\n",
    "rddproductos = sc.parallelize(productos)"
   ]
  },
  {
   "cell_type": "code",
   "execution_count": 3,
   "metadata": {},
   "outputs": [
    {
     "data": {
      "text/plain": [
       "[(1, 'Abrochadora', 'Libreria'),\n",
       " (2, 'Lapiz', 'Libreria'),\n",
       " (3, 'Calculadora', 'Electronicos'),\n",
       " (4, 'Alcohol en Gel', 'Farmacia'),\n",
       " (5, 'Algodon', 'Farmacia'),\n",
       " (6, 'Peine', 'Farmacia')]"
      ]
     },
     "execution_count": 3,
     "metadata": {},
     "output_type": "execute_result"
    }
   ],
   "source": [
    "rddproductos.collect()"
   ]
  },
  {
   "cell_type": "code",
   "execution_count": 4,
   "metadata": {},
   "outputs": [
    {
     "data": {
      "text/plain": [
       "[('2019-01-13', 1, 400),\n",
       " ('2019-01-19', 1, 350),\n",
       " ('2018-01-28', 2, 400),\n",
       " ('2019-01-24', 2, 150),\n",
       " ('2019-01-25', 1, 160),\n",
       " ('2019-01-24', 6, 100),\n",
       " ('2016-01-24', 6, 110),\n",
       " ('2019-01-26', 3, 200),\n",
       " ('2018-01-27', 1, 180),\n",
       " ('2019-01-30', 2, 230),\n",
       " ('2018-01-31', 1, 250),\n",
       " ('2019-01-28', 1, 100),\n",
       " ('2018-01-28', 2, 300),\n",
       " ('2019-01-29', 1, 200),\n",
       " ('2016-01-14', 6, 120),\n",
       " ('2019-01-24', 6, 130),\n",
       " ('2019-01-23', 6, 90),\n",
       " ('2019-01-28', 4, 230),\n",
       " ('2016-01-20', 4, 220),\n",
       " ('2019-01-23', 4, 240),\n",
       " ('2016-01-22', 5, 260),\n",
       " ('2019-01-21', 5, 120),\n",
       " ('2019-01-24', 3, 120),\n",
       " ('2019-01-24', 6, 100),\n",
       " ('2019-01-24', 6, 90),\n",
       " ('2019-01-24', 6, 120),\n",
       " ('2016-01-24', 6, 110)]"
      ]
     },
     "execution_count": 4,
     "metadata": {},
     "output_type": "execute_result"
    }
   ],
   "source": [
    "rddventas.collect()"
   ]
  },
  {
   "cell_type": "code",
   "execution_count": 5,
   "metadata": {},
   "outputs": [],
   "source": [
    "# A) Cuál es el producto más vendido."
   ]
  },
  {
   "cell_type": "code",
   "execution_count": 6,
   "metadata": {},
   "outputs": [
    {
     "data": {
      "text/plain": [
       "[(6, (9, 'Peine'))]"
      ]
     },
     "execution_count": 6,
     "metadata": {},
     "output_type": "execute_result"
    }
   ],
   "source": [
    "# Si cada linea es una venta, puedo pasar a formato (K, V) con K=codigo V=1\n",
    "\n",
    "#Nuevo formato\n",
    "rddventasb = rddventas.map(lambda x: (x[1], 1))\n",
    "\n",
    "#Contabilizo\n",
    "rddventasb = rddventasb.reduceByKey(lambda x,y: x+y)\n",
    "\n",
    "#Preparo formato clave valor en otro rdd\n",
    "rddproductosb = rddproductos.map(lambda x: (x[0], x[1]))\n",
    "\n",
    "#Traigo los nombres\n",
    "rddventasb = rddventasb.join(rddproductosb)\n",
    "\n",
    "#Me quedo con el primero en orden descendente\n",
    "rddventasb.takeOrdered(1, key = lambda x: -x[1][0])"
   ]
  },
  {
   "cell_type": "code",
   "execution_count": 7,
   "metadata": {},
   "outputs": [
    {
     "data": {
      "text/plain": [
       "[('Farmacia', 14)]"
      ]
     },
     "execution_count": 7,
     "metadata": {},
     "output_type": "execute_result"
    }
   ],
   "source": [
    "# B) Cuál es la categoría de productos más vendida\n",
    "\n",
    "# Sumar ventas pero que la clave sea la categoria\n",
    "\n",
    "#Nuevos formatos clave valor para hacer join\n",
    "rddventasc = rddventas.map(lambda x: (x[1], 1))\n",
    "rddproductosc = rddproductos.map(lambda x: (x[0], x[2]))\n",
    "\n",
    "#Joineo para tener (ID, CATEGORIA, 1)\n",
    "rddventascat = rddproductosc.join(rddventasc)\n",
    "\n",
    "#Necesito formato con clave categoria (de paso vuelo el ID) (CATEGORIA, 1)\n",
    "rddventascat = rddventascat.map(lambda x: (x[1][0], 1))\n",
    "\n",
    "rddventascat = rddventascat.reduceByKey(lambda x,y: x+y)\n",
    "\n",
    "rddventascat.takeOrdered(1, key = lambda x: -x[1])\n"
   ]
  },
  {
   "cell_type": "code",
   "execution_count": 8,
   "metadata": {},
   "outputs": [],
   "source": [
    "# C) Cuál es el top5 de productos más vendidos generando un RDD con \n",
    "# (código de producto, descripción, cantidad de ventas)"
   ]
  },
  {
   "cell_type": "code",
   "execution_count": 9,
   "metadata": {},
   "outputs": [
    {
     "data": {
      "text/plain": [
       "[(6, ('Peine', 9)),\n",
       " (1, ('Abrochadora', 7)),\n",
       " (2, ('Lapiz', 4)),\n",
       " (4, ('Alcohol en Gel', 3)),\n",
       " (3, ('Calculadora', 2))]"
      ]
     },
     "execution_count": 9,
     "metadata": {},
     "output_type": "execute_result"
    }
   ],
   "source": [
    "# (CODIGO, 1)\n",
    "rddventasd = rddventas.map(lambda x: (x[1], 1))\n",
    "# (CODIGO, VENTAS)\n",
    "rddventasd = rddventasd.reduceByKey(lambda x,y: x + y)\n",
    "# (CODIGO, DESCRIPCION)\n",
    "rddproductosd =rddproductos.map(lambda x: (x[0], x[1]))\n",
    "\n",
    "# (CODIGO, VENTAS) ---> (CODIGO,DESCRIPCION,VENTAS)\n",
    "rddtop5 = rddproductosd.join(rddventasd)\n",
    "\n",
    "\n",
    "rddtop5.takeOrdered(5, key = lambda x: -x[1][1])"
   ]
  },
  {
   "cell_type": "code",
   "execution_count": 10,
   "metadata": {},
   "outputs": [
    {
     "data": {
      "text/plain": [
       "[(1, 5), (6, 6)]"
      ]
     },
     "execution_count": 10,
     "metadata": {},
     "output_type": "execute_result"
    }
   ],
   "source": [
    "# D) Cuál es el producto que registró mayor aumento de precio en el último año, tomando\n",
    "# para este análisis solo los productos que cuenten con al menos 5 ventas en el último\n",
    "# año.\n",
    "\n",
    "\n",
    "#Idea, primero ver cuantos vendieron mas de 5 ventas en el ultimo año\n",
    "\n",
    "# FECHA, IDPROD, PRECIO\n",
    "rddventas2019 = rddventas.filter(lambda x: x[0] > \"2019\")\n",
    "\n",
    "#IDPROD, 1\n",
    "rddventas2019identificadas = rddventas2019.map(lambda x: (x[1], 1))\n",
    "\n",
    "# IDPROD, CANTIDAD DE VENTAS\n",
    "rddventas2019contadas = rddventas2019identificadas.reduceByKey(lambda x,y: x+y)\n",
    "\n",
    "# IDPROD, CANTIDAD DE VENTAS (DE LOS Q SE QUE SE VENDIERON AL MENOS 5 VECES EN 2019)\n",
    "rddventas2019filtradas = rddventas2019contadas.filter(lambda x: x[1] >= 5)\n",
    "\n",
    "rddventas2019filtradas.collect()\n"
   ]
  },
  {
   "cell_type": "code",
   "execution_count": 11,
   "metadata": {},
   "outputs": [
    {
     "data": {
      "text/plain": [
       "[(1, (400, 5)),\n",
       " (1, (350, 5)),\n",
       " (1, (160, 5)),\n",
       " (1, (100, 5)),\n",
       " (1, (200, 5)),\n",
       " (6, (100, 6)),\n",
       " (6, (130, 6)),\n",
       " (6, (90, 6)),\n",
       " (6, (100, 6)),\n",
       " (6, (90, 6)),\n",
       " (6, (120, 6))]"
      ]
     },
     "execution_count": 11,
     "metadata": {},
     "output_type": "execute_result"
    }
   ],
   "source": [
    "#Ahora quiero quedarme con el minimo y el maximo del precio\n",
    "\n",
    "# IDPROD, PRECIO\n",
    "rddventas2019conprecio = rddventas2019.map(lambda x: (x[1], x[2]))\n",
    "\n",
    "# IDPROD (PRECIO, VENTAS) (sobre productos q se ventas >= 50)\n",
    "rddventas2019conprecio = rddventas2019conprecio.join(rddventas2019filtradas)\n",
    "rddventas2019conprecio.collect()\n",
    "\n",
    "#rddtopventasconprecio = rddventas2019conprecio.map(lambda x: (x[0],x[1][0]))\n",
    "#rddtopventasconprecio.collect()"
   ]
  },
  {
   "cell_type": "code",
   "execution_count": 16,
   "metadata": {},
   "outputs": [
    {
     "data": {
      "text/plain": [
       "[(1, 400), (6, 130)]"
      ]
     },
     "execution_count": 16,
     "metadata": {},
     "output_type": "execute_result"
    }
   ],
   "source": [
    "# Mala mia. Sabiendo que reduceByKey se aplica asociativamente, imaginemos el siguiente caso:\n",
    "# (a, (1, 2)), (a, (0, 3)), (a, (2,3))\n",
    "\n",
    "# En el primer paso se hace reduceByKey de los primeros dos. El resultado es\n",
    "# (a, 0)\n",
    "\n",
    "# Ahora, todavía nos faltan grupos por procesar, por lo que tenemos que procesar lo grupos:\n",
    "# (a, 0), (a, (2,3))\n",
    "\n",
    "# Cuando se pasen esas entradas a reduceByKey falla porque no se puede hacer 0[0].\n",
    "\n",
    "# La lección es que reduceByKey no puede transformar el formato de los datos, porque\n",
    "# se aplica sobre lo datos originales y los resultados de si mismo.\n",
    "\n",
    "# Ahora cambio la respuesta en piazza!\n",
    "rddpreciosmaximos = rddventas2019conprecio.reduceByKey(lambda x,y: y[0] if (x[0]<y[0]) else x[0])\n",
    "rddpreciosmaximos.collect()\n",
    "\n",
    "# Solucion correcta:\n",
    "rddventas2019conprecio.reduceByKey(lambda x, y: y if (x[0]<y[0]) else x)\\\n",
    "    .map(lambda x: (x[0], x[1][0])).collect()"
   ]
  },
  {
   "cell_type": "code",
   "execution_count": 17,
   "metadata": {},
   "outputs": [
    {
     "data": {
      "text/plain": [
       "[(1, (400, 5)), (6, (130, 6))]"
      ]
     },
     "execution_count": 17,
     "metadata": {},
     "output_type": "execute_result"
    }
   ],
   "source": [
    "# IDPROD (PRECIO MAX, VENTAS)\n",
    "\n",
    "rddpreciosmaximos = rddventas2019conprecio.reduceByKey(lambda x,y: y if (x[0]<y[0]) else x)\n",
    "rddpreciosmaximos.collect()"
   ]
  },
  {
   "cell_type": "code",
   "execution_count": 115,
   "metadata": {},
   "outputs": [
    {
     "data": {
      "text/plain": [
       "[(1, (100, 5)), (6, (90, 6))]"
      ]
     },
     "execution_count": 115,
     "metadata": {},
     "output_type": "execute_result"
    }
   ],
   "source": [
    "# IDPROD (PRECIO MIN, VENTAS)\n",
    "\n",
    "rddpreciosminimos = rddventas2019conprecio.reduceByKey(lambda x,y: x if (x<y) else y)\n",
    "rddpreciosminimos.collect()"
   ]
  },
  {
   "cell_type": "code",
   "execution_count": 116,
   "metadata": {},
   "outputs": [
    {
     "data": {
      "text/plain": [
       "[(1, (300, 'Abrochadora'))]"
      ]
     },
     "execution_count": 116,
     "metadata": {},
     "output_type": "execute_result"
    }
   ],
   "source": [
    "# IDPROD ((PRECIO MAX, VENTAS),(PRECIO MIN, VENTAS))\n",
    "\n",
    "rddcomparadorprecios = rddpreciosmaximos.join(rddpreciosminimos)\n",
    "\n",
    "# IDPROD DIFERENCIAPRECIO\n",
    "rddcomparadorprecios = rddcomparadorprecios.map(lambda x: (x[0],x[1][0][0] - x[1][1][0]))\n",
    "\n",
    "# ID (PROD DIFERENCIAPRECIO, NOMBRE)\n",
    "rddcomparadorprecios = rddcomparadorprecios.join(rddproductos)\n",
    "\n",
    "# Me quedo con el primero bajo formato\n",
    "# IDPRODUCTO (DIF PRECIO, NOMBRE)\n",
    "rddcomparadorprecios.takeOrdered(1, lambda x: -x[1][0])"
   ]
  },
  {
   "cell_type": "code",
   "execution_count": 117,
   "metadata": {},
   "outputs": [],
   "source": [
    "# E) Idem anterior, pero calculando la categoría de productos que registró mayor variación\n",
    "# de precios en el último año."
   ]
  },
  {
   "cell_type": "code",
   "execution_count": 136,
   "metadata": {},
   "outputs": [
    {
     "data": {
      "text/plain": [
       "[('Farmacia', 10)]"
      ]
     },
     "execution_count": 136,
     "metadata": {},
     "output_type": "execute_result"
    }
   ],
   "source": [
    "# La unica diferencia es que tengo que sumar por categoria y no por id de producto\n",
    "\n",
    "# Filtro para ventas en 2019\n",
    "\n",
    "# FECHA, IDPROD, PRECIO\n",
    "rddventas2019 = rddventas.filter(lambda x: x[0] > \"2019\")\n",
    "\n",
    "#IDPROD, 1\n",
    "rddventas2019identificadas = rddventas2019.map(lambda x: (x[1], 1))\n",
    "\n",
    "#IDPROD, CATEGORIA\n",
    "categoriaporid = rddproductos.map(lambda x: (x[0], x[2]))\n",
    "\n",
    "#IDPROD (CATEGORIA, 1)\n",
    "rddventas2019cat = categoriaporid.join(rddventas2019identificadas)\n",
    "\n",
    "# CATEGORIA, 1\n",
    "rddventas2019cat = rddventas2019cat.map(lambda x: (x[1][0],x[1][1]))\n",
    "\n",
    "\n",
    "# CATEGORIA, CANTIDAD DE VENTAS\n",
    "rddventas2019catcontadas = rddventas2019cat.reduceByKey(lambda x,y: x+y)\n",
    "\n",
    "# Filtro por las 5 ventas minimas\n",
    "# CATEGORIA, CANTIDAD DE VENTAS (>= 5)\n",
    "rddtopventas2019catcontadas = rddventas2019catcontadas.filter(lambda x: x[1] >= 5)\n",
    "\n",
    "#IDPROD, PRECIO\n",
    "precioporid = rddventas2019.map(lambda x: (x[1], x[2]))\n",
    "\n",
    "#IDPROD, (CATEGORIA, PRECIO)\n",
    "ventas = categoriaporid.join(precioporid)\n",
    "\n",
    "\n",
    "# (CATEGORIA, PRECIO)\n",
    "precioporcat = ventas.map(lambda x: (x[1][0],x[1][1]))\n",
    "\n",
    "# (CATEGORIA, (PRECIO, VENTAS))\n",
    "precioportopcat = precioporcat.join(rddtopventas2019catcontadas)\n",
    "\n",
    "# (CATEGORIA, VENTAS)\n",
    "precioportopcat = precioportopcat.map(lambda x: (x[0], x[1][0]))\n",
    "\n",
    "\n",
    "minimoscat = precioportopcat.reduceByKey(lambda x,y: x if (x<y) else x)\n",
    "maximoscat = precioportopcat.reduceByKey(lambda x,y: y if (x<y) else x)\n",
    "\n",
    "# (CATEGORIA, (MAX, MIN))\n",
    "preciosbordecat = maximoscat.join(minimoscat)\n",
    "\n",
    "# (CATEGORIA, DIFPRECIOS)\n",
    "preciosbordecat = preciosbordecat.map(lambda x: (x[0], x[1][0]-x[1][1]))\n",
    "\n",
    "# Tomo la que tenga DIFPRECIOS mas grande\n",
    "preciosbordecat.takeOrdered(1, lambda x: -x[1])"
   ]
  },
  {
   "cell_type": "code",
   "execution_count": null,
   "metadata": {},
   "outputs": [],
   "source": []
  }
 ],
 "metadata": {
  "kernelspec": {
   "display_name": "Python 3",
   "language": "python",
   "name": "python3"
  },
  "language_info": {
   "codemirror_mode": {
    "name": "ipython",
    "version": 3
   },
   "file_extension": ".py",
   "mimetype": "text/x-python",
   "name": "python",
   "nbconvert_exporter": "python",
   "pygments_lexer": "ipython3",
   "version": "3.7.3"
  }
 },
 "nbformat": 4,
 "nbformat_minor": 2
}

{
 "cells": [
  {
   "cell_type": "code",
   "execution_count": 32,
   "metadata": {},
   "outputs": [],
   "source": [
    "# 6) UBER almacena en un cluster todos los datos sobre el movimiento y viajes de todos sus\n",
    "# vehículos. \n",
    "\n",
    "# Existe un proceso que nos devuelve un RDD llamado trip_summary con los\n",
    "# siguientes campos: \n",
    "#(driver_id, car_id, trip_id, customer_id, date (YYYYMMDD), distance_traveled), \n",
    "\n",
    "# Programar usando Py Spark un programa que nos indique cual fue el\n",
    "# conductor con mayor promedio de distancia recorrida por viaje para Abril de 2016.\n",
    "\n",
    "\n",
    "datos = [\n",
    "        (100,\"100A\", 1, 500, \"20160412\", 3.3),\n",
    "        (100,\"100A\", 2, 501, \"20160413\", 3.9),\n",
    "        (100,\"100A\", 3, 501, \"20160414\", 1.3),\n",
    "        (100,\"100A\", 4, 501, \"20160415\", 2.3),\n",
    "        (100,\"100A\", 5, 500, \"20160416\", 4.3),\n",
    "        (100,\"100B\", 6, 501, \"20160418\", 1.3),\n",
    "        (100,\"100A\", 7, 501, \"20160419\", 3.2),\n",
    "        (100,\"100A\", 8, 500, \"20160421\", 5.3),\n",
    "        (100,\"100A\", 9, 500, \"20160420\", 3.1),\n",
    "        (100,\"100C\", 10, 501, \"20160421\", 2.3),\n",
    "        (100,\"100A\", 11, 500, \"20160501\", 13.3),\n",
    "        (100,\"100A\", 12, 501, \"20160524\", 13.3),\n",
    "        (200,\"200A\", 13, 500, \"20160412\", 3.3),\n",
    "        (200,\"200A\", 24, 501, \"20160413\", 3.9),\n",
    "        (200,\"200B\", 35, 501, \"20160415\", 6.3),\n",
    "        (200,\"200A\", 46, 501, \"20160415\", 1.3),\n",
    "        (200,\"200A\", 57, 500, \"20160416\", 8.3),\n",
    "        (200,\"200A\", 68, 501, \"20160414\", 1.3),\n",
    "        (200,\"200B\", 79, 501, \"20160413\", 4.2),\n",
    "        (200,\"200A\", 81, 500, \"20160422\", 5.3),\n",
    "        (200,\"200A\", 92, 500, \"20160420\", 5.1),\n",
    "        (200,\"200B\", 18, 501, \"20160421\", 1.3),\n",
    "        (200,\"200A\", 21, 500, \"20160501\", 103.3),\n",
    "        (200,\"200A\", 33, 501, \"20160524\", 103.3),\n",
    "        (200,\"200A\", 33, 501, \"20160501\", 10000000003.3)\n",
    "]\n",
    "\n",
    "viajes = sc.parallelize(datos)"
   ]
  },
  {
   "cell_type": "code",
   "execution_count": 33,
   "metadata": {},
   "outputs": [],
   "source": [
    "#FILTRO VIAJES A ABRIL 2016\n",
    "\n",
    "viajes = viajes.filter(lambda x: (x[4] > \"20160400\") & (x[4] < \"201605\"))"
   ]
  },
  {
   "cell_type": "code",
   "execution_count": 34,
   "metadata": {},
   "outputs": [
    {
     "data": {
      "text/plain": [
       "[(200, (40.300000000000004, 10))]"
      ]
     },
     "execution_count": 34,
     "metadata": {},
     "output_type": "execute_result"
    }
   ],
   "source": [
    "# (driver_id, car_id, trip_id, customer_id, date (YYYYMMDD), distance_traveled)\n",
    "\n",
    "# Mapeo a (driver_id, (distance, 1))\n",
    "contados = viajes.map(lambda x: (x[0],(x[5],1)))\n",
    "\n",
    "# Sumo distancias y unos\n",
    "# (driver_id, (sumadist, numviajes))\n",
    "contados = contados.reduceByKey(lambda x,y: (x[0]+y[0],x[1]+y[1]))\n",
    "\n",
    "# Saco promedios por map \n",
    "#promedios = contados.map(lambda x: x[0], x[1][0]/x[1][1])\n",
    "#contados.collect()\n",
    "\n",
    "#No hace falta, hago takeordered con el criterio pediddo\n",
    "#                                     - distancia/numviajes\n",
    "contados.takeOrdered(1, key = lambda x: -x[1][0]/x[1][1])\n"
   ]
  }
 ],
 "metadata": {
  "kernelspec": {
   "display_name": "Python 3",
   "language": "python",
   "name": "python3"
  },
  "language_info": {
   "codemirror_mode": {
    "name": "ipython",
    "version": 3
   },
   "file_extension": ".py",
   "mimetype": "text/x-python",
   "name": "python",
   "nbconvert_exporter": "python",
   "pygments_lexer": "ipython3",
   "version": "3.7.3"
  }
 },
 "nbformat": 4,
 "nbformat_minor": 2
}

{
 "cells": [
  {
   "cell_type": "code",
   "execution_count": 76,
   "metadata": {},
   "outputs": [],
   "source": [
    "# Se tiene un RDD registros de ventas de producto con la forma (fecha de venta, código de\n",
    "# producto, precio de venta) y en otro RDD detalle de los productos con (código de producto,\n",
    "# descripción del producto, categoría). \n",
    "\n",
    "ventas = [\n",
    "        (\"2019-01-13\", 1, 400),\n",
    "        (\"2019-01-19\", 1, 350),\n",
    "        (\"2018-01-28\", 2, 400),\n",
    "        (\"2018-01-24\", 2, 150),\n",
    "        (\"2016-01-25\", 1, 160),\n",
    "        (\"2016-01-24\", 6, 100),\n",
    "        (\"2016-01-24\", 6, 110),\n",
    "        (\"2019-01-26\", 3, 200),\n",
    "        (\"2018-01-27\", 1, 180),\n",
    "        (\"2019-01-30\", 2, 230),\n",
    "        (\"2018-01-31\", 1, 250),\n",
    "        (\"2019-01-28\", 1, 100),\n",
    "        (\"2018-01-28\", 2, 300),\n",
    "        (\"2016-01-29\", 1, 200),\n",
    "        (\"2016-01-14\", 6, 120),\n",
    "        (\"2016-01-24\", 6, 130),\n",
    "        (\"2016-01-23\", 6, 90),\n",
    "        (\"2016-01-28\", 4, 230),\n",
    "        (\"2016-01-20\", 4, 220),\n",
    "        (\"2016-01-23\", 4, 240),\n",
    "        (\"2016-01-22\", 5, 260),\n",
    "        (\"2016-01-21\", 5, 120),\n",
    "        (\"2016-01-24\", 3, 120),\n",
    "        (\"2016-01-24\", 6, 100),\n",
    "        (\"2016-01-24\", 6, 90),\n",
    "        (\"2016-01-24\", 6, 120),\n",
    "        (\"2016-01-24\", 6, 110)\n",
    "]\n",
    "\n",
    "productos = [\n",
    "        (1, \"Abrochadora\", \"Libreria\"),\n",
    "        (2, \"Lapiz\", \"Libreria\"),\n",
    "        (3, \"Goma\", \"Libreria\"),\n",
    "        (4, \"Alcohol en Gel\", \"Farmacia\"),\n",
    "        (5, \"Algodon\", \"Farmacia\"),\n",
    "        (6, \"Peine\", \"Farmacia\")\n",
    "]\n",
    "\n",
    "rddventas = sc.parallelize(ventas)\n",
    "rddproductos = sc.parallelize(productos)"
   ]
  },
  {
   "cell_type": "code",
   "execution_count": 77,
   "metadata": {},
   "outputs": [
    {
     "data": {
      "text/plain": [
       "[(1, 'Abrochadora', 'Libreria'),\n",
       " (2, 'Lapiz', 'Libreria'),\n",
       " (3, 'Goma', 'Libreria'),\n",
       " (4, 'Alcohol en Gel', 'Farmacia'),\n",
       " (5, 'Algodon', 'Farmacia'),\n",
       " (6, 'Peine', 'Farmacia')]"
      ]
     },
     "execution_count": 77,
     "metadata": {},
     "output_type": "execute_result"
    }
   ],
   "source": [
    "rddproductos.collect()"
   ]
  },
  {
   "cell_type": "code",
   "execution_count": 78,
   "metadata": {},
   "outputs": [
    {
     "data": {
      "text/plain": [
       "[('2019-01-13', 1, 400),\n",
       " ('2019-01-19', 1, 350),\n",
       " ('2018-01-28', 2, 400),\n",
       " ('2018-01-24', 2, 150),\n",
       " ('2016-01-25', 1, 160),\n",
       " ('2016-01-24', 6, 100),\n",
       " ('2016-01-24', 6, 110),\n",
       " ('2019-01-26', 3, 200),\n",
       " ('2018-01-27', 1, 180),\n",
       " ('2019-01-30', 2, 230),\n",
       " ('2018-01-31', 1, 250),\n",
       " ('2019-01-28', 1, 100),\n",
       " ('2018-01-28', 2, 300),\n",
       " ('2016-01-29', 1, 200),\n",
       " ('2016-01-14', 6, 120),\n",
       " ('2016-01-24', 6, 130),\n",
       " ('2016-01-23', 6, 90),\n",
       " ('2016-01-28', 4, 230),\n",
       " ('2016-01-20', 4, 220),\n",
       " ('2016-01-23', 4, 240),\n",
       " ('2016-01-22', 5, 260),\n",
       " ('2016-01-21', 5, 120),\n",
       " ('2016-01-24', 3, 120),\n",
       " ('2016-01-24', 6, 100),\n",
       " ('2016-01-24', 6, 90),\n",
       " ('2016-01-24', 6, 120),\n",
       " ('2016-01-24', 6, 110)]"
      ]
     },
     "execution_count": 78,
     "metadata": {},
     "output_type": "execute_result"
    }
   ],
   "source": [
    "rddventas.collect()"
   ]
  },
  {
   "cell_type": "code",
   "execution_count": 79,
   "metadata": {},
   "outputs": [],
   "source": [
    "# A) Cuál es el producto más vendido."
   ]
  },
  {
   "cell_type": "code",
   "execution_count": 80,
   "metadata": {},
   "outputs": [
    {
     "data": {
      "text/plain": [
       "[(6, (9, 'Peine'))]"
      ]
     },
     "execution_count": 80,
     "metadata": {},
     "output_type": "execute_result"
    }
   ],
   "source": [
    "# Si cada linea es una venta, puedo pasar a formato (K, V) con K=codigo V=1\n",
    "\n",
    "#Nuevo formato\n",
    "rddventasb = rddventas.map(lambda x: (x[1], 1))\n",
    "\n",
    "#Contabilizo\n",
    "rddventasb = rddventasb.reduceByKey(lambda x,y: x+y)\n",
    "\n",
    "#Preparo formato clave valor en otro rdd\n",
    "rddproductosb = rddproductos.map(lambda x: (x[0], x[1]))\n",
    "\n",
    "#Traigo los nombres\n",
    "rddventasb = rddventasb.join(rddproductosb)\n",
    "\n",
    "#Me quedo con el primero en orden descendente\n",
    "rddventasb.takeOrdered(1, key = lambda x: -x[1][0])"
   ]
  },
  {
   "cell_type": "code",
   "execution_count": 81,
   "metadata": {},
   "outputs": [
    {
     "data": {
      "text/plain": [
       "[('Farmacia', 14)]"
      ]
     },
     "execution_count": 81,
     "metadata": {},
     "output_type": "execute_result"
    }
   ],
   "source": [
    "# B) Cuál es la categoría de productos más vendida\n",
    "\n",
    "# Sumar ventas pero que la clave sea la categoria\n",
    "\n",
    "#Nuevos formatos clave valor para hacer join\n",
    "rddventasc = rddventas.map(lambda x: (x[1], 1))\n",
    "rddproductosc = rddproductos.map(lambda x: (x[0], x[2]))\n",
    "\n",
    "#Joineo para tener (ID, CATEGORIA, 1)\n",
    "rddventascat = rddproductosc.join(rddventasc)\n",
    "\n",
    "#Necesito formato con clave categoria (de paso vuelo el ID) (CATEGORIA, 1)\n",
    "rddventascat = rddventascat.map(lambda x: (x[1][0], 1))\n",
    "\n",
    "rddventascat = rddventascat.reduceByKey(lambda x,y: x+y)\n",
    "\n",
    "rddventascat.takeOrdered(1, key = lambda x: -x[1])\n"
   ]
  },
  {
   "cell_type": "code",
   "execution_count": 82,
   "metadata": {},
   "outputs": [],
   "source": [
    "# C) Cuál es el top5 de productos más vendidos generando un RDD con \n",
    "# (código de producto, descripción, cantidad de ventas)"
   ]
  },
  {
   "cell_type": "code",
   "execution_count": 119,
   "metadata": {},
   "outputs": [
    {
     "data": {
      "text/plain": [
       "[(6, ('Peine', 9)),\n",
       " (1, ('Abrochadora', 7)),\n",
       " (2, ('Lapiz', 4)),\n",
       " (4, ('Alcohol en Gel', 3)),\n",
       " (3, ('Goma', 2))]"
      ]
     },
     "execution_count": 119,
     "metadata": {},
     "output_type": "execute_result"
    }
   ],
   "source": [
    "# (CODIGO, 1)\n",
    "rddventasd = rddventas.map(lambda x: (x[1], 1))\n",
    "# (CODIGO, VENTAS)\n",
    "rddventasd = rddventasd.reduceByKey(lambda x,y: x + y)\n",
    "# (CODIGO, DESCRIPCION)\n",
    "rddproductosd =rddproductos.map(lambda x: (x[0], x[1]))\n",
    "\n",
    "# (CODIGO, VENTAS) ---> (CODIGO,DESCRIPCION,VENTAS)\n",
    "rddtop5 = rddproductosd.join(rddventasd)\n",
    "\n",
    "\n",
    "rddtop5.takeOrdered(5, key = lambda x: -x[1][1])"
   ]
  },
  {
   "cell_type": "code",
   "execution_count": null,
   "metadata": {},
   "outputs": [],
   "source": [
    "# D) Cuál es el producto que registró mayor aumento de precio en el último año, tomando\n",
    "# para este análisis solo los productos que cuenten con al menos 50 ventas en el último\n",
    "# año."
   ]
  }
 ],
 "metadata": {
  "kernelspec": {
   "display_name": "Python 3",
   "language": "python",
   "name": "python3"
  },
  "language_info": {
   "codemirror_mode": {
    "name": "ipython",
    "version": 3
   },
   "file_extension": ".py",
   "mimetype": "text/x-python",
   "name": "python",
   "nbconvert_exporter": "python",
   "pygments_lexer": "ipython3",
   "version": "3.7.3"
  }
 },
 "nbformat": 4,
 "nbformat_minor": 2
}

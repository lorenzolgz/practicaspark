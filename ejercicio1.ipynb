{
 "cells": [
  {
   "cell_type": "code",
   "execution_count": 59,
   "metadata": {},
   "outputs": [],
   "source": [
    "notas = [\n",
    "        (100, \"ALGEBRA\", 9,\"2012-01-13\"),\n",
    "        (100, \"ANALISIS\", 8,\"2012-01-19\"),\n",
    "        (100, \"ALGORITMOS\", 9,\"2012-01-28\"),\n",
    "        (110, \"ALGORITMOS\", 9,\"2012-01-24\"),\n",
    "        (110, \"ALGEBRA\", 9,\"2012-01-25\"),\n",
    "        (110, \"ANALISIS\", 9,\"2012-01-26\"),\n",
    "        (120, \"ALGORITMOS\", 6,\"2012-01-27\"),\n",
    "        (120, \"ALGEBRA\", 10,\"2012-01-30\"),\n",
    "        (120, \"ANALISIS\", 9,\"2012-01-31\"),\n",
    "        (100, \"FISICA\", 9,\"2012-01-28\")\n",
    "]\n",
    "\n",
    "\n",
    "rddnotas = sc.parallelize(notas)"
   ]
  },
  {
   "cell_type": "code",
   "execution_count": 60,
   "metadata": {},
   "outputs": [
    {
     "data": {
      "text/plain": [
       "[(100, 'ALGEBRA', 9, '2012-01-13'),\n",
       " (100, 'ANALISIS', 8, '2012-01-19'),\n",
       " (100, 'ALGORITMOS', 9, '2012-01-28'),\n",
       " (110, 'ALGORITMOS', 9, '2012-01-24'),\n",
       " (110, 'ALGEBRA', 9, '2012-01-25'),\n",
       " (110, 'ANALISIS', 9, '2012-01-26'),\n",
       " (120, 'ALGORITMOS', 6, '2012-01-27'),\n",
       " (120, 'ALGEBRA', 10, '2012-01-30'),\n",
       " (120, 'ANALISIS', 9, '2012-01-31'),\n",
       " (100, 'FISICA', 9, '2012-01-28')]"
      ]
     },
     "execution_count": 60,
     "metadata": {},
     "output_type": "execute_result"
    }
   ],
   "source": [
    "rddnotas.collect()"
   ]
  },
  {
   "cell_type": "code",
   "execution_count": 37,
   "metadata": {},
   "outputs": [],
   "source": [
    "#   Un RDD conteniendo el promedio de notas de cada alumno de la forma \n",
    "#   (padrón, promedio)"
   ]
  },
  {
   "cell_type": "code",
   "execution_count": 66,
   "metadata": {},
   "outputs": [],
   "source": [
    "#  Me quedo con el padron y la nota, agrego un 1 para contar\n",
    "\n",
    "notas_por_padron = rddnotas.map(lambda x: (x[0], (x[2],1)))"
   ]
  },
  {
   "cell_type": "code",
   "execution_count": 62,
   "metadata": {},
   "outputs": [],
   "source": [
    "# Sumo las notas y los 1\n",
    "\n",
    "notas_por_padron = notas_por_padron.reduceByKey(lambda x,y: (x[0] + y[0], x[1] + y[1]))"
   ]
  },
  {
   "cell_type": "code",
   "execution_count": 63,
   "metadata": {},
   "outputs": [],
   "source": [
    "# Calculo promedio como division entre acumulado de notas y los 1\n",
    "\n",
    "notas_por_padron = notas_por_padron.map(lambda x: (x[0], x[1][0] / x[1][1]))"
   ]
  },
  {
   "cell_type": "code",
   "execution_count": 65,
   "metadata": {},
   "outputs": [
    {
     "data": {
      "text/plain": [
       "[(110, 9.0), (100, 8.75), (120, 8.333333333333334)]"
      ]
     },
     "execution_count": 65,
     "metadata": {},
     "output_type": "execute_result"
    }
   ],
   "source": [
    "# Tomo los primeros 5 ordenados descendentemente por nota promedio\n",
    "\n",
    "notas_por_padron.takeOrdered(5, key = lambda x: - x[1])"
   ]
  }
 ],
 "metadata": {
  "kernelspec": {
   "display_name": "Python 3",
   "language": "python",
   "name": "python3"
  },
  "language_info": {
   "codemirror_mode": {
    "name": "ipython",
    "version": 3
   },
   "file_extension": ".py",
   "mimetype": "text/x-python",
   "name": "python",
   "nbconvert_exporter": "python",
   "pygments_lexer": "ipython3",
   "version": "3.7.3"
  }
 },
 "nbformat": 4,
 "nbformat_minor": 2
}

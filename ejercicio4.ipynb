{
 "cells": [
  {
   "cell_type": "code",
   "execution_count": 17,
   "metadata": {},
   "outputs": [],
   "source": [
    "# 4) Se tiene un RDD con las coordenadas de rectángulos de la forma (x1,x2,y1,y2). Se pide\n",
    "# programar en PySpark un programa que encuentre el rectángulo de superficie mínima que\n",
    "# contiene al punto (w,z)\n",
    "\n",
    "\n",
    "# ANALISIS\n",
    "#\n",
    "#  y2  _____\n",
    "#     |    |\n",
    "#     |    |\n",
    "#     |    |\n",
    "#  y1 |____|\n",
    "#     x1  x2\n",
    "#\n",
    "\n",
    "\n",
    "rect= [\n",
    "        (0,10, 100,150),\n",
    "        (4,5, 25,26),\n",
    "        (0,15, 30,35),\n",
    "        (0,35, 0,35),\n",
    "        (10,20, 30,40),\n",
    "        (1,20, 30,31),\n",
    "        (22,30, 5,15),\n",
    "        (2,23, 10,55),\n",
    "        (20,35, 6,26),\n",
    "        (20,40, 7,117)\n",
    "]\n",
    "\n",
    "rectangulos = sc.parallelize(rect)"
   ]
  },
  {
   "cell_type": "code",
   "execution_count": 25,
   "metadata": {},
   "outputs": [
    {
     "data": {
      "text/plain": [
       "[(0, 10, 100, 150),\n",
       " (4, 5, 25, 26),\n",
       " (0, 15, 30, 35),\n",
       " (0, 35, 0, 35),\n",
       " (10, 20, 30, 40),\n",
       " (1, 20, 30, 31),\n",
       " (22, 30, 5, 15),\n",
       " (2, 23, 10, 55),\n",
       " (20, 35, 6, 26),\n",
       " (20, 40, 7, 117)]"
      ]
     },
     "execution_count": 25,
     "metadata": {},
     "output_type": "execute_result"
    }
   ],
   "source": [
    "rectangulos.collect()"
   ]
  },
  {
   "cell_type": "code",
   "execution_count": 19,
   "metadata": {},
   "outputs": [],
   "source": [
    "# Encuentre el rectángulo de superficie mínima que\n",
    "# contiene al punto (w,z)"
   ]
  },
  {
   "cell_type": "code",
   "execution_count": 20,
   "metadata": {},
   "outputs": [],
   "source": [
    "# Un rectangulo contiene a (w,z) si  x1 <= w <= x2  AND   y1 <= z <= y2"
   ]
  },
  {
   "cell_type": "code",
   "execution_count": 28,
   "metadata": {},
   "outputs": [
    {
     "data": {
      "text/plain": [
       "[(4, 5, 25, 26), (0, 35, 0, 35), (2, 23, 10, 55)]"
      ]
     },
     "execution_count": 28,
     "metadata": {},
     "output_type": "execute_result"
    }
   ],
   "source": [
    "w = 5\n",
    "z = 25\n",
    "\n",
    "# Me quedo con los que contengan al punto\n",
    "\n",
    "contenedores = rectangulos.filter(lambda x: ((x[0] <= w) & (w <= x[1])) & \\\n",
    "                                  ((x[2] <= z) & (z <= x[3])))\n",
    "\n",
    "contenedores.collect()\n",
    "# FORMATO\n",
    "# (x1, x2, y1, y2) CONTENEDORES DE (w,z)"
   ]
  },
  {
   "cell_type": "code",
   "execution_count": 29,
   "metadata": {},
   "outputs": [
    {
     "data": {
      "text/plain": [
       "[(4, 5, 25, 26)]"
      ]
     },
     "execution_count": 29,
     "metadata": {},
     "output_type": "execute_result"
    }
   ],
   "source": [
    "# Pido el primero en orden ascendente con una funcion que pondere el área\n",
    "\n",
    "#Idealmente la cuenta seria abs(x1-x2) * abs(y1-y2) pero asumí que x1 < x2 y y1 < y2\n",
    "\n",
    "contenedores.takeOrdered(1, key = lambda x: (x[1]-x[0])*(x[3]-x[2]))"
   ]
  }
 ],
 "metadata": {
  "kernelspec": {
   "display_name": "Python 3",
   "language": "python",
   "name": "python3"
  },
  "language_info": {
   "codemirror_mode": {
    "name": "ipython",
    "version": 3
   },
   "file_extension": ".py",
   "mimetype": "text/x-python",
   "name": "python",
   "nbconvert_exporter": "python",
   "pygments_lexer": "ipython3",
   "version": "3.7.3"
  }
 },
 "nbformat": 4,
 "nbformat_minor": 2
}

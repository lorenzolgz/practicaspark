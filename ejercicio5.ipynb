{
 "cells": [
  {
   "cell_type": "code",
   "execution_count": 2,
   "metadata": {},
   "outputs": [
    {
     "data": {
      "text/plain": [
       "[('file:/home/lorenzo/Desktop/practicaspark/textos5/archivo2.txt',\n",
       "  'acciones transformaciones persistencia sparkcontext abarate baratea bateara rateaba\\n'),\n",
       " ('file:/home/lorenzo/Desktop/practicaspark/textos5/archivo1.txt',\n",
       "  'discounter introduces reductions abarcas abracas bacaras carabas rascaba\\n')]"
      ]
     },
     "execution_count": 2,
     "metadata": {},
     "output_type": "execute_result"
    }
   ],
   "source": [
    "# 5) Se tiene un RDD con libros en donde cada registro es un texto. Se pide obtener todos los\n",
    "# anagramas de mas de 7 letras que puedan encontrarse. El formato de salida debe ser una lista\n",
    "# de listas en donde cada lista tiene un conjunto de palabras que son anagramas. \n",
    "\n",
    "#Ejemplo: [[discounter,introduces,reductions],[percussion,supersonic]...]\n",
    "\n",
    "\n",
    "\n",
    "libros = sc.wholeTextFiles(\"/home/lorenzo/Desktop/practicaspark/textos5\")\n",
    "\n",
    "libros.collect()"
   ]
  },
  {
   "cell_type": "code",
   "execution_count": 7,
   "metadata": {
    "scrolled": true
   },
   "outputs": [
    {
     "data": {
      "text/plain": [
       "['acciones',\n",
       " 'transformaciones',\n",
       " 'persistencia',\n",
       " 'sparkcontext',\n",
       " 'abarate',\n",
       " 'baratea',\n",
       " 'bateara',\n",
       " 'rateaba',\n",
       " 'discounter',\n",
       " 'introduces',\n",
       " 'reductions',\n",
       " 'abarcas',\n",
       " 'abracas',\n",
       " 'bacaras',\n",
       " 'carabas',\n",
       " 'rascaba']"
      ]
     },
     "execution_count": 7,
     "metadata": {},
     "output_type": "execute_result"
    }
   ],
   "source": [
    "# Tienen formato (RUTA, TEXTO)\n",
    "# Me quedo con las palabras\n",
    "\n",
    "palabras = libros.flatMap(lambda x: x[1].split())\n",
    "\n",
    "palabras.collect()"
   ]
  },
  {
   "cell_type": "code",
   "execution_count": 9,
   "metadata": {},
   "outputs": [
    {
     "data": {
      "text/plain": [
       "[('acceinos', ['acciones']),\n",
       " ('aceeiinprsst', ['persistencia']),\n",
       " ('aceknoprsttx', ['sparkcontext']),\n",
       " ('aaabcrs', ['abarcas', 'abracas', 'bacaras', 'carabas', 'rascaba']),\n",
       " ('aacefimnnoorrsst', ['transformaciones']),\n",
       " ('aaabert', ['abarate', 'baratea', 'bateara', 'rateaba']),\n",
       " ('cdeinorstu', ['discounter', 'introduces', 'reductions'])]"
      ]
     },
     "execution_count": 9,
     "metadata": {},
     "output_type": "execute_result"
    }
   ],
   "source": [
    "# Tienen formato [\"palabra1\", \"palabra2\", ...]\n",
    "# Me deja las letras ordenadas + la palabra original\n",
    "(\"AAAABBC\", [\"ACABABA\"])\n",
    "(\"AAAABBC\", [\"ABACABA\"])\n",
    "(\"AEEMN\", [\"MENEA\"])\n",
    "(\"AEEMN\", [\"ENEMA\"])\n",
    "palabras2 = palabras.map(lambda word: (\"\".join(sorted([letter for letter in word])),[word]))\n",
    "\n",
    "#Las palabras que son anagramas tendran igual clave, por eso puedo hacer\n",
    "#reduceByKey sumando los valores asociados a la clave\n",
    "anagramas = palabras2.reduceByKey(lambda word1,word2: word1 + word2)\n",
    "\n",
    "anagramas.collect()"
   ]
  },
  {
   "cell_type": "code",
   "execution_count": 10,
   "metadata": {},
   "outputs": [
    {
     "data": {
      "text/plain": [
       "[['acciones'],\n",
       " ['persistencia'],\n",
       " ['sparkcontext'],\n",
       " ['abarcas', 'abracas', 'bacaras', 'carabas', 'rascaba'],\n",
       " ['transformaciones'],\n",
       " ['abarate', 'baratea', 'bateara', 'rateaba'],\n",
       " ['discounter', 'introduces', 'reductions']]"
      ]
     },
     "execution_count": 10,
     "metadata": {},
     "output_type": "execute_result"
    }
   ],
   "source": [
    "# Si quiero solo los anagramas\n",
    "\n",
    "anagramas2 = anagramas.map(lambda x: x[1])\n",
    "anagramas2.collect()"
   ]
  },
  {
   "cell_type": "code",
   "execution_count": null,
   "metadata": {},
   "outputs": [],
   "source": []
  }
 ],
 "metadata": {
  "kernelspec": {
   "display_name": "Python 3",
   "language": "python",
   "name": "python3"
  },
  "language_info": {
   "codemirror_mode": {
    "name": "ipython",
    "version": 3
   },
   "file_extension": ".py",
   "mimetype": "text/x-python",
   "name": "python",
   "nbconvert_exporter": "python",
   "pygments_lexer": "ipython3",
   "version": "3.7.3"
  }
 },
 "nbformat": 4,
 "nbformat_minor": 2
}

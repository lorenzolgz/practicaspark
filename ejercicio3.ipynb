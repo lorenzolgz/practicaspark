{
 "cells": [
  {
   "cell_type": "code",
   "execution_count": 42,
   "metadata": {},
   "outputs": [],
   "source": [
    "# Se tiene un RDD con información de vuelos programados con la forma (número de vuelo,\n",
    "# código de aerolínea, código de aeropuerto de salida, código de aeropuerto de llegada, fecha de\n",
    "# salida AAAAMMDD, hora de salida HH:MM, fecha de llegada AAAAMMDD, hora de llegada\n",
    "# HH:MM). A su vez, se cuenta con el registro actualizado del estado de los vuelos que fueron\n",
    "# ocurriendo, con la forma (número de vuelo, aerolínea, fecha de salida AAAAMMDD, hora de\n",
    "# salida HH:MM, fecha de llegada AAAAMMDD, hora de llegada HH:MM, estado). En base al\n",
    "# estado, podría contar con algún dato en blanco, por ejemplo si el vuelo fue cancelado no tendrá\n",
    "# información de fechas y horas, si el vuelo se encuentra aún en curso, no contendrá información\n",
    "# de la llegada.\n",
    "\n",
    "vuelosprogramados = [\n",
    "        (1047, \"LATAM\", \"EZE\", \"NVT\", \"20190731\", \"07:00\", \"20190731\", \"13:15\"),\n",
    "        (1048, \"LATAM\", \"EZE\", \"AEP\", \"20190731\", \"08:00\", \"20190731\", \"12:15\"),\n",
    "        (1049, \"LATAM\", \"EZE\", \"CBA\", \"20190731\", \"09:00\", \"20190731\", \"11:10\"),\n",
    "        (1050, \"LATAM\", \"CBA\", \"NVT\", \"20190731\", \"10:00\", \"20190731\", \"19:10\"),\n",
    "        (1051, \"LATAM\", \"SGO\", \"NVT\", \"20190731\", \"11:00\", \"20190731\", \"18:45\"),\n",
    "        (1052, \"LATAM\", \"EZE\", \"SGO\", \"20190731\", \"12:00\", \"20190731\", \"17:30\"),\n",
    "        (1053, \"LATAM\", \"CBA\", \"SGO\", \"20190731\", \"13:00\", \"20190731\", \"16:15\"),\n",
    "        (1054, \"LATAM\", \"AEP\", \"NVT\", \"20190731\", \"14:00\", \"20190731\", \"14:25\"),\n",
    "        (1055, \"LATAM\", \"SGO\", \"NVT\", \"20190731\", \"15:00\", \"20190801\", \"09:10\"),\n",
    "        (1056, \"LATAM\", \"EZE\", \"CBA\", \"20190731\", \"16:00\", \"20190801\", \"11:20\"),\n",
    "        (2050, \"AA\", \"EZE\", \"AEP\", \"20190731\", \"07:00\", \"20190731\", \"13:00\"),\n",
    "        (2051, \"AA\", \"AEP\", \"NVT\", \"20190731\", \"07:30\", \"20190731\", \"11:00\"),\n",
    "        (2052, \"AA\", \"CBA\", \"TXT\", \"20190731\", \"08:00\", \"20190731\", \"15:00\"),\n",
    "        (2053, \"AA\", \"AZA\", \"CRL\", \"20190731\", \"08:30\", \"20190731\", \"17:00\"),\n",
    "        (2054, \"AA\", \"PQP\", \"MDQ\", \"20190731\", \"09:00\", \"20190731\", \"13:15\"),\n",
    "        (2055, \"AA\", \"AEP\", \"CRL\", \"20190731\", \"09:30\", \"20190731\", \"13:15\"),\n",
    "        (2056, \"AA\", \"EZE\", \"CBA\", \"20190731\", \"10:00\", \"20190731\", \"13:15\")\n",
    "]\n",
    "\n",
    "#(número de vuelo, aerolínea, fecha de salida AAAAMMDD, hora de\n",
    "# salida HH:MM, fecha de llegada AAAAMMDD, hora de llegada HH:MM, estado). En base al\n",
    "# estado, podría contar con algún dato en blanco, por ejemplo si el vuelo fue cancelado no tendrá\n",
    "# información de fechas y horas, si el vuelo se encuentra aún en curso, no contendrá información\n",
    "# de la llegada.\n",
    "registrovuelos = [\n",
    "        (1047, \"LATAM\", \"20190731\", \"07:10\", \"20190731\", \"13:20\", \"ARRIBADO\"),\n",
    "        (1048, \"LATAM\", \"20190731\", \"08:05\", \"20190731\", \"12:10\", \"ARRIBADO\"),\n",
    "        (1049, \"LATAM\", \"20190731\", \"09:20\", \"20190731\", \"11:25\", \"ARRIBADO\"),\n",
    "        (1050, \"LATAM\", \"20190731\", \"10:01\", \"\",         \"\",      \"EN CURSO\"),\n",
    "        (1051, \"LATAM\", \"20190731\", \"11:00\", \"\",         \"\",      \"EN CURSO\"),\n",
    "        (1052, \"LATAM\", \"20190731\", \"12:00\", \"\",         \"\",      \"EN CURSO\"),\n",
    "        (1053, \"LATAM\", \"20190731\", \"13:15\", \"\",         \"\",      \"EN CURSO\"),\n",
    "        (1054, \"LATAM\", \"\",         \"\",      \"\",         \"\",      \"CANCELADO\"),\n",
    "        (1055, \"LATAM\", \"20190731\", \"08:00\", \"\",         \"\",       \"EN CURSO\"),\n",
    "        (1056, \"LATAM\", \"20190731\", \"16:00\", \"\",         \"\",       \"EN CURSO\" ),\n",
    "        (2050, \"AA\",    \"20190731\", \"07:10\", \"20190731\", \"13:15\",  \"ARRIBADO\"),\n",
    "        (2051, \"AA\",    \"20190731\", \"07:40\", \"20190731\", \"11:25\",  \"ARRIBADO\"),\n",
    "        (2052, \"AA\",    \"20190731\", \"08:50\", \"20190731\", \"15:35\",  \"ARRIBADO\"),\n",
    "        (2053, \"AA\",    \"20190731\", \"10:00\", \"20190731\", \"17:45\",  \"ARRIBADO\"),\n",
    "        (2054, \"AA\",    \"20190731\", \"9:10\",  \"\",         \"\",       \"EN CURSO\"),\n",
    "        (2055, \"AA\",    \"\",         \"\",      \"\",         \"\",       \"CANCELADO\"),\n",
    "        (2056, \"AA\",    \"\",         \"\",      \"\",         \"\",       \"CANCELADO\")\n",
    "]\n",
    "\n",
    "vuelosprog = sc.parallelize(vuelosprogramados)\n",
    "vuelosreg = sc.parallelize(registrovuelos)"
   ]
  },
  {
   "cell_type": "code",
   "execution_count": 43,
   "metadata": {},
   "outputs": [
    {
     "data": {
      "text/plain": [
       "[(1047, 'LATAM', 'EZE', 'NVT', '20190731', '07:00', '20190731', '13:15'),\n",
       " (1048, 'LATAM', 'EZE', 'AEP', '20190731', '08:00', '20190731', '12:15'),\n",
       " (1049, 'LATAM', 'EZE', 'CBA', '20190731', '09:00', '20190731', '11:10'),\n",
       " (1050, 'LATAM', 'CBA', 'NVT', '20190731', '10:00', '20190731', '19:10'),\n",
       " (1051, 'LATAM', 'SGO', 'NVT', '20190731', '11:00', '20190731', '18:45'),\n",
       " (1052, 'LATAM', 'EZE', 'SGO', '20190731', '12:00', '20190731', '17:30'),\n",
       " (1053, 'LATAM', 'CBA', 'SGO', '20190731', '13:00', '20190731', '16:15'),\n",
       " (1054, 'LATAM', 'AEP', 'NVT', '20190731', '14:00', '20190731', '14:25'),\n",
       " (1055, 'LATAM', 'SGO', 'NVT', '20190731', '15:00', '20190801', '09:10'),\n",
       " (1056, 'LATAM', 'EZE', 'CBA', '20190731', '16:00', '20190801', '11:20'),\n",
       " (2050, 'AA', 'EZE', 'AEP', '20190731', '07:00', '20190731', '13:00'),\n",
       " (2051, 'AA', 'AEP', 'NVT', '20190731', '07:30', '20190731', '11:00'),\n",
       " (2052, 'AA', 'CBA', 'TXT', '20190731', '08:00', '20190731', '15:00'),\n",
       " (2053, 'AA', 'AZA', 'CRL', '20190731', '08:30', '20190731', '17:00'),\n",
       " (2054, 'AA', 'PQP', 'MDQ', '20190731', '09:00', '20190731', '13:15'),\n",
       " (2055, 'AA', 'AEP', 'CRL', '20190731', '09:30', '20190731', '13:15'),\n",
       " (2056, 'AA', 'EZE', 'CBA', '20190731', '10:00', '20190731', '13:15')]"
      ]
     },
     "execution_count": 43,
     "metadata": {},
     "output_type": "execute_result"
    }
   ],
   "source": [
    "vuelosprog.collect()"
   ]
  },
  {
   "cell_type": "code",
   "execution_count": 44,
   "metadata": {},
   "outputs": [
    {
     "data": {
      "text/plain": [
       "[(1047, 'LATAM', '20190731', '07:10', '20190731', '13:20', 'ARRIBADO'),\n",
       " (1048, 'LATAM', '20190731', '08:05', '20190731', '12:10', 'ARRIBADO'),\n",
       " (1049, 'LATAM', '20190731', '09:20', '20190731', '11:25', 'ARRIBADO'),\n",
       " (1050, 'LATAM', '20190731', '10:01', '', '', 'EN CURSO'),\n",
       " (1051, 'LATAM', '20190731', '11:00', '', '', 'EN CURSO'),\n",
       " (1052, 'LATAM', '20190731', '12:00', '', '', 'EN CURSO'),\n",
       " (1053, 'LATAM', '20190731', '13:15', '', '', 'EN CURSO'),\n",
       " (1054, 'LATAM', '', '', '', '', 'CANCELADO'),\n",
       " (1055, 'LATAM', '20190731', '08:00', '', '', 'EN CURSO'),\n",
       " (1056, 'LATAM', '20190731', '16:00', '', '', 'EN CURSO'),\n",
       " (2050, 'AA', '20190731', '07:10', '20190731', '13:15', 'ARRIBADO'),\n",
       " (2051, 'AA', '20190731', '07:40', '20190731', '11:25', 'ARRIBADO'),\n",
       " (2052, 'AA', '20190731', '08:50', '20190731', '15:35', 'ARRIBADO'),\n",
       " (2053, 'AA', '20190731', '10:00', '20190731', '17:45', 'ARRIBADO'),\n",
       " (2054, 'AA', '20190731', '9:10', '', '', 'EN CURSO'),\n",
       " (2055, 'AA', '', '', '', '', 'CANCELADO'),\n",
       " (2056, 'AA', '', '', '', '', 'CANCELADO')]"
      ]
     },
     "execution_count": 44,
     "metadata": {},
     "output_type": "execute_result"
    }
   ],
   "source": [
    "vuelosreg.collect()"
   ]
  },
  {
   "cell_type": "code",
   "execution_count": 4,
   "metadata": {},
   "outputs": [],
   "source": [
    "# A) Cuál es el aeropuerto con mayor tránsito"
   ]
  },
  {
   "cell_type": "code",
   "execution_count": 28,
   "metadata": {},
   "outputs": [
    {
     "data": {
      "text/plain": [
       "[('CBA', 6)]"
      ]
     },
     "execution_count": 28,
     "metadata": {},
     "output_type": "execute_result"
    }
   ],
   "source": [
    "# Considero transito como cantidad de vuelos de llegada y salida\n",
    "\n",
    "# FORMATO VUELOSPROG\n",
    "# (1048, 'LATAM', 'EZE', 'AEP', '20190731', '08:00', '20190731', '12:15')\n",
    "\n",
    "aepsalida = vuelosprog.map(lambda x: (x[2], 1))\n",
    "aepllegada = vuelosprog.map(lambda x: (x[3], 1))\n",
    "# FORMATO AEP SALIDA / LLEGADA\n",
    "# (AEP, 1)\n",
    "\n",
    "vuelossalida = aepsalida.reduceByKey(lambda x,y: x+y)\n",
    "vuelosllegada = aepllegada.reduceByKey(lambda x,y: x+y)\n",
    "# FORMATO VUELOS SALIDA / LLEGADA\n",
    "# (AEP, CANTVUELOS)\n",
    "\n",
    "vuelossalida.collect()\n",
    "\n",
    "##################################################################################\n",
    "# MUY IMPORTANTE: EL JOIN NO DEBE SER INNER, SI UN AEP ES SOLO DE SALIDA\n",
    "#                 TAMBIEN DEBE SER CONSIDERADO, CONSULTAR SOBRE COMO\n",
    "#                 CONTABILIZAR CORRECTAMENTE UN RDD CON FORMATO\n",
    "#                 CLAVE, (NUMA, NUMB) \n",
    "#                 DONDE ME INTERESA SUMAR NUMA Y NUMB PERO ALGUNOS SON NULL\n",
    "##################################################################################\n",
    "\n",
    "vuelosporaep = vuelossalida.join(vuelosllegada)\n",
    "# FORMATO VUELOS POR AEP\n",
    "# (AEP, (VUELOSSAL, VUELOSENT))\n",
    "\n",
    "\n",
    "vuelosporaep = vuelosporaep.map(lambda x: (x[0] ,x[1][0] + x[1][1]))\n",
    "# FORMATO VUELOS POR AEP\n",
    "# (AEP, VUELOSTOTALES)\n",
    "\n",
    "vuelosporaep.takeOrdered(1, key = lambda x: -x[1])\n",
    "# Tomo el primero en orden descendente por cantidad de vuelos totales\n"
   ]
  },
  {
   "cell_type": "code",
   "execution_count": 29,
   "metadata": {},
   "outputs": [],
   "source": [
    "# B) Cuál es la aerolínea con mayor cantidad de vuelos."
   ]
  },
  {
   "cell_type": "code",
   "execution_count": 33,
   "metadata": {},
   "outputs": [
    {
     "data": {
      "text/plain": [
       "[('LATAM', 10)]"
      ]
     },
     "execution_count": 33,
     "metadata": {},
     "output_type": "execute_result"
    }
   ],
   "source": [
    "# FORMATO VUELOSPROG\n",
    "# (1047, 'LATAM', 'EZE', 'NVT', '20190731', '07:00', '20190731', '13:15'),\n",
    "\n",
    "\n",
    "vuelosaero = vuelosprog.map(lambda x: (x[1],1))\n",
    "# (AERO, 1)\n",
    "\n",
    "vuelosporaero = vuelosaero.reduceByKey(lambda x,y: x+y)\n",
    "# (AERO, CANTVUELOS)\n",
    "\n",
    "vuelosporaero.takeOrdered(1, key = lambda x: -x[1])"
   ]
  },
  {
   "cell_type": "code",
   "execution_count": 34,
   "metadata": {},
   "outputs": [],
   "source": [
    "# C) Cuál es la aerolínea con mayor cantidad de cancelaciones."
   ]
  },
  {
   "cell_type": "code",
   "execution_count": 46,
   "metadata": {},
   "outputs": [
    {
     "data": {
      "text/plain": [
       "[('AA', 2)]"
      ]
     },
     "execution_count": 46,
     "metadata": {},
     "output_type": "execute_result"
    }
   ],
   "source": [
    "# FORMATO VUELOSREG\n",
    "#  (2053, \"AA\", \"20190731\", \"10:00\", \"20190731\", \"17:45\", \"ESTADO\")\n",
    "\n",
    "vueloscancelados = vuelosreg.filter(lambda x: x[6] == \"CANCELADO\")\n",
    "# (2053, \"AA\", \"20190731\", \"10:00\", \"20190731\", \"17:45\", \"CANCELADO\")\n",
    "\n",
    "vueloscanceladosaero = vueloscancelados.map(lambda x: (x[1],1))\n",
    "# (\"AERO\", 1)\n",
    "\n",
    "vueloscanceladosaero = vueloscanceladosaero.reduceByKey(lambda x,y: x+y)\n",
    "# (\"AERO\", CANTCANCELADOS)\n",
    "\n",
    "vueloscanceladosaero.takeOrdered(1, key = lambda x: -x[1])\n"
   ]
  },
  {
   "cell_type": "code",
   "execution_count": 47,
   "metadata": {},
   "outputs": [],
   "source": [
    "# D) Cuál es el vuelo (numero de vuelo + fecha) con mayor retraso en el horario de salida."
   ]
  },
  {
   "cell_type": "code",
   "execution_count": 53,
   "metadata": {},
   "outputs": [
    {
     "data": {
      "text/plain": [
       "[(1048, ('08:05', '08:00')),\n",
       " (1049, ('09:20', '09:00')),\n",
       " (1050, ('10:01', '10:00')),\n",
       " (2050, ('07:10', '07:00')),\n",
       " (2051, ('07:40', '07:30')),\n",
       " (2052, ('08:50', '08:00')),\n",
       " (1053, ('13:15', '13:00')),\n",
       " (2053, ('10:00', '08:30')),\n",
       " (2054, ('9:10', '09:00')),\n",
       " (1047, ('07:10', '07:00'))]"
      ]
     },
     "execution_count": 53,
     "metadata": {},
     "output_type": "execute_result"
    }
   ],
   "source": [
    "# FORMATO VUELOSREG\n",
    "#  (2053, \"AA\", \"20190731\", \"10:00\", \"20190731\", \"17:45\", \"ESTADO\")\n",
    "\n",
    "# IDEA, DE VUELOS REG SOLO ME INTERESAN AQUELLOS QUE ARRIBARON O QUE ESTAN EN CURSO\n",
    "\n",
    "vuelossalientes = vuelosreg.filter(lambda x: (x[6] == \"EN CURSO\") | (x[6] == \"ARRIBADO\"))\n",
    "# FORMATO SALIENTES\n",
    "# (2053, \"AA\", \"20190731\", \"10:00\", \"20190731\", \"17:45\", \"ESTADO\")\n",
    "# DONDE ESTADO == ARRIBADO / EN CURSO\n",
    "\n",
    "horarioreal = vuelossalientes.map(lambda x: (x[0], x[3]))\n",
    "# FORMATO\n",
    "# (VUELO, HORARIOSALIDA)\n",
    "\n",
    "# FORMATO VUELOSPROG\n",
    "# (1047, 'LATAM', 'EZE', 'NVT', '20190731', '07:00', '20190731', '13:15'),\n",
    "\n",
    "horarioprog = vuelosprog.map(lambda x: (x[0], x[5]))\n",
    "# FORMATO\n",
    "# (VUELO, HORARIOSALIDA)\n",
    "\n",
    "horarios = horarioreal.join(horarioprog)\n",
    "# FORMATO\n",
    "# (VUELO, (SALIDAREAL, SALIDAPROGRAMADA))\n",
    "\n",
    "atrasados = horarios.filter(lambda x: x[1][0] > x[1][1])\n",
    "# FORMATO\n",
    "# (VUELO, (SALIDAREAL, SALIDAPROGRAMADA)) DONDE SALIDAPROGRAMADA > SALIDAREAL\n",
    "\n",
    "atrasados.collect()\n",
    "\n"
   ]
  },
  {
   "cell_type": "code",
   "execution_count": null,
   "metadata": {},
   "outputs": [],
   "source": []
  }
 ],
 "metadata": {
  "kernelspec": {
   "display_name": "Python 3",
   "language": "python",
   "name": "python3"
  },
  "language_info": {
   "codemirror_mode": {
    "name": "ipython",
    "version": 3
   },
   "file_extension": ".py",
   "mimetype": "text/x-python",
   "name": "python",
   "nbconvert_exporter": "python",
   "pygments_lexer": "ipython3",
   "version": "3.7.3"
  }
 },
 "nbformat": 4,
 "nbformat_minor": 2
}
